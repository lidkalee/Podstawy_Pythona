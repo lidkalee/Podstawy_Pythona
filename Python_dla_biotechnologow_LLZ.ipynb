{
  "nbformat": 4,
  "nbformat_minor": 0,
  "metadata": {
    "kernelspec": {
      "display_name": "Python 3",
      "language": "python",
      "name": "python3"
    },
    "language_info": {
      "codemirror_mode": {
        "name": "ipython",
        "version": 3
      },
      "file_extension": ".py",
      "mimetype": "text/x-python",
      "name": "python",
      "nbconvert_exporter": "python",
      "pygments_lexer": "ipython3",
      "version": "3.7.3"
    },
    "colab": {
      "name": "Python_dla_biotechnologow_LLZ.ipynb",
      "provenance": [],
      "collapsed_sections": [
        "E5sPMCdVohUl"
      ],
      "include_colab_link": true
    }
  },
  "cells": [
    {
      "cell_type": "markdown",
      "metadata": {
        "id": "view-in-github",
        "colab_type": "text"
      },
      "source": [
        "<a href=\"https://colab.research.google.com/github/lidkalee/Podstawy_Pythona/blob/main/Python_dla_biotechnologow_LLZ.ipynb\" target=\"_parent\"><img src=\"https://colab.research.google.com/assets/colab-badge.svg\" alt=\"Open In Colab\"/></a>"
      ]
    },
    {
      "cell_type": "markdown",
      "metadata": {
        "id": "EjUAaJ-3ohT8"
      },
      "source": [
        "# Wstęp do języka programowania Python dla Biotechnologów\n",
        "\n",
        "Szkolenie dla **SKNB Ferment**, 11 grudnia 2020 od godz. 18tej.\n",
        "\n",
        "## Zakres szkolenia:\n",
        "* Ogólne wprowadzenie do języka Python.\n",
        "* Typy zmiennych.\n",
        "* Listy, słowniki, sety, tuple.\n",
        "* Wyrażenia if, elif, else.\n",
        "* Pętle for.\n",
        "* Wprowadzenie do tworzenia funkcji.\n",
        "* Analiza i wizualizacja danych.\n",
        "\n",
        "\n",
        "## Najważeniejsze biblioteki dla naukowca:\n",
        "\n",
        "* NumPy - pakiet do obliczeń\n",
        "* Pandas - pakiet do analizy danych (najczęściej dla danych w formie tabel)\n",
        "* SciPy - Scientific Python - do celów naukowych, analizy statystycznej i rozwiązywania trudniejszych problemów matematycznych i inżynieryjnych\n",
        "* Matplotlib - tworzenie wykresów\n",
        "* Seaborn - tworzenie ślicznych wykresów\n",
        "\n",
        "## Prowadząca - Lidia Lipińska-Zubrycka\n",
        "* absolwentka Politechniki Łódzkiej, Instytutu Technologii Fermentacji i Mikrobiologii (doktorat w 2018),\n",
        "* obecnie postdoc w Instytucie Genetyki i Biotechnologii Uniwersytetu Warszawskiego,\n",
        "* wiceprezes [Stowarzyszenia NGSchool](https://ngschool.eu/)\n"
      ]
    },
    {
      "cell_type": "markdown",
      "metadata": {
        "id": "1LLDCJLxohUB"
      },
      "source": [
        "## Zanim zaczniemy - mała \"ściąga\" jak poruszać się w Jupyter Notebook\n",
        "* Shift+Enter - uruchom komendę w danej komórce (run)\n",
        "* kliknij na komórkę - jeśli jest podświetlona na zielono - możesz pisać. Jeśli na niebiesko, możesz dodać nową komórkę nad (kliknij a) lub pod daną komórką (kliknij b)\n",
        "* Jeśli chcemy zatrzymać działanie skryptu - ctrl+C"
      ]
    },
    {
      "cell_type": "markdown",
      "metadata": {
        "id": "X1jg7w4MohUC"
      },
      "source": [
        "## Zmienne i ich typy\n",
        "\n",
        "Zmienna to adres na przechowywanie danych\n",
        "\n",
        "**Każda zmienna ma:**\n",
        "* nazwę,\n",
        "*  wartość,\n",
        "* typ. \n",
        "\n",
        "Zmienne mogą występować lokalnie lub globalnie.\n",
        "\n",
        "**Główne typy zmiennych**:\n",
        "* tekstowe: string (str)\n",
        "* liczbowe - liczby całkowite: integer (int)\n",
        "* liczbowe - liczby zmiennoprzecinkowe: float (float)\n",
        "* logiczne - tylko True of False: Boolean (bool)"
      ]
    },
    {
      "cell_type": "code",
      "metadata": {
        "id": "g4DdWJNqohUC"
      },
      "source": [
        "# String (str) - tekst\n",
        "moje_imie = \"Lidia\"\n",
        "\n",
        "# Integer (int) - tylko liczby całkowite\n",
        "dzien_miesiaca = 11\n",
        "\n",
        "# Float (float) - liczby zmiennoprzecinkowe\n",
        "temperatura = 36.6\n",
        "\n",
        "# Boolean Type (bool) - True/ False\n",
        "entuzjasta_Pythona = True\n",
        "\n"
      ],
      "execution_count": null,
      "outputs": []
    },
    {
      "cell_type": "code",
      "metadata": {
        "id": "3U-lPMHpohUD"
      },
      "source": [
        "# O co chodzi z typem logicznym?\n",
        "entuzjasta_Pythona"
      ],
      "execution_count": null,
      "outputs": []
    },
    {
      "cell_type": "code",
      "metadata": {
        "id": "tbLADf-yohUD"
      },
      "source": [
        "# Sztandarowe pierwsze powitanie\n",
        "print('Hello world!')"
      ],
      "execution_count": null,
      "outputs": []
    },
    {
      "cell_type": "code",
      "metadata": {
        "id": "t42m0gekohUD"
      },
      "source": [
        "# Zadanie: Przywitaj się ze światem.\n",
        "\n"
      ],
      "execution_count": null,
      "outputs": []
    },
    {
      "cell_type": "code",
      "metadata": {
        "scrolled": true,
        "id": "YbagtL3johUE"
      },
      "source": [
        "gad = \"Python\"\n",
        "print(\"Introduction to\", gad)"
      ],
      "execution_count": null,
      "outputs": []
    },
    {
      "cell_type": "code",
      "metadata": {
        "id": "Q7Q9xwMFohUE"
      },
      "source": [
        "# Zadanie\n",
        "imie = \n",
        "print(\"Mam na imię\", imie)"
      ],
      "execution_count": null,
      "outputs": []
    },
    {
      "cell_type": "markdown",
      "metadata": {
        "id": "NaAkmjaXohUE"
      },
      "source": [
        "### Strings"
      ]
    },
    {
      "cell_type": "code",
      "metadata": {
        "scrolled": true,
        "id": "HHBzkesuohUF"
      },
      "source": [
        "# Tworzymy nową zmienną w typie string\n",
        "sekwencja = 'AAATCGTAC'\n",
        "print(sekwencja)"
      ],
      "execution_count": null,
      "outputs": []
    },
    {
      "cell_type": "code",
      "metadata": {
        "id": "nKi_hoe6ohUF"
      },
      "source": [
        "# sprawadzam dlugosc sekwencji \n",
        "print(len(sekwencja))\n",
        "\n",
        "# liczymy ile jest dimerów AT\n",
        "print(sekwencja.count(\"AT\"))"
      ],
      "execution_count": null,
      "outputs": []
    },
    {
      "cell_type": "markdown",
      "metadata": {
        "id": "-np5OToGohUF"
      },
      "source": [
        "### Uwaga, w Pythonie liczymy od 0!\n",
        "\n",
        "|B|i|o|t|e|c|h|n|o|l|o|g|i|a|\n",
        "|--|--|--|--|--|--|--|--|--|--|--|--|--|--|\n",
        "|0 |1| 2| 3| 4| 5| 6| 7| 8| 9| 10| 11| 12| 13|\n",
        "|-14 |-13| -12| -11| -10| -9| -8| -7| -6| -5| -4| -3| -2| -1|"
      ]
    },
    {
      "cell_type": "code",
      "metadata": {
        "id": "SmpjPSflohUF"
      },
      "source": [
        "# zmienna ma długość 9, jednak przy zapytaniu o element 9 otrzymamy błąd\n",
        "sekwencja[9]"
      ],
      "execution_count": null,
      "outputs": []
    },
    {
      "cell_type": "code",
      "metadata": {
        "id": "wPgFJImCohUG"
      },
      "source": [
        "# jaki jest pierwszy, piąty i ostatni nuklotyd\n",
        "sekwencja[0]\n",
        "sekwencja[4]\n",
        "sekwencja[-1]"
      ],
      "execution_count": null,
      "outputs": []
    },
    {
      "cell_type": "code",
      "metadata": {
        "id": "gZ-ueFvaohUG"
      },
      "source": [
        "# jakie są nukleotydy od 3 do 7 pozycji\n",
        "sekwencja[2:7] # nie zawiera ostatniej pozycji\n",
        "\n",
        "#ostatne 5 liter\n",
        "sekwencja[-5:]"
      ],
      "execution_count": null,
      "outputs": []
    },
    {
      "cell_type": "code",
      "metadata": {
        "id": "gtAWtPSGohUG"
      },
      "source": [
        "# Zadanie: utworz zmienną ulubiony_mikroorganizm i wyprintuj cały pierwszy człon nazwy \n",
        "# np. Lactobacillus plantarum -> ma wyjść Lactobacillus\n",
        "\n"
      ],
      "execution_count": null,
      "outputs": []
    },
    {
      "cell_type": "code",
      "metadata": {
        "id": "Cqh4Yza0ohUG"
      },
      "source": [
        "\n",
        "kolo_naukowe = 'Ferment'\n",
        "print(kolo_naukowe)\n",
        "print(kolo_naukowe, \",\", \"Czy to Ty?\")\n",
        "print(kolo_naukowe*2)"
      ],
      "execution_count": null,
      "outputs": []
    },
    {
      "cell_type": "code",
      "metadata": {
        "id": "x32T0ZVVohUG"
      },
      "source": [
        "# Zadania:\n",
        "my_sequence = 'CGTAACAAGGTTTCCGTAGGTGAACCTGCGGAAGGATCATTGATGAGACCGTAAAAAA'\n",
        "\n",
        "\n",
        "# 1. sprawdż jak długa jest sekwencja\n",
        "# 2. sprawdź ile razy występuje sekwencja TT\n",
        "# *3. zrób zmienną zawierającą tylko ogon poli A (np. kopiując ręcznie ze zmiennej powyżej) i sprawdź jaki jest długi.\n"
      ],
      "execution_count": null,
      "outputs": []
    },
    {
      "cell_type": "markdown",
      "metadata": {
        "id": "7_q0bs2AohUH"
      },
      "source": [
        "### Kilka przydatnych działań, które możemy wykonać na zmiennych typu string\n",
        "\n",
        "* `find(pattern)` - znajdź pozycję, w której zaczyna się dany wzór (pattern); zwróci -1 jeśli nie znajdzie wzoru;\n",
        "* `replace(pattern, replacement)` - Zastępuje wszystkie wystąpienia wzoru (pattern) jego zamiennikiem (replacement);\n",
        "* `upper()`, `lower()` - konwertuj do małych/ wielkich liter;\n"
      ]
    },
    {
      "cell_type": "code",
      "metadata": {
        "id": "a0spsDOyohUH"
      },
      "source": [
        "# find(pattern)\n",
        "my_sequence = '’CGTAACAAGGTTTCCGTAGGTGAACCTGCGGAAGGATCATTGATGAGACCGTAAAAAA'\n",
        "pierwsze_wyst=my_sequence.find(\"AAAAA\")\n",
        "\n",
        "# teraz jeszcze raz printujemy ogon poli A\n",
        "my_sequence[53:]"
      ],
      "execution_count": null,
      "outputs": []
    },
    {
      "cell_type": "code",
      "metadata": {
        "id": "1TafklZVohUH"
      },
      "source": [
        "# funkcja replace(pattern, replacement) - zamieniamy każdy wzór w sekwencji na zamiennik\n",
        "drozdze = 'C. albicans, C. bombi, C. pinus, C. parapsilosis, C. vini'\n",
        "drozdze_pelnenazwy = drozdze.replace('C.', 'Candida')\n",
        "print(drozdze)\n",
        "print(drozdze_pelnenazwy)"
      ],
      "execution_count": null,
      "outputs": []
    },
    {
      "cell_type": "code",
      "metadata": {
        "id": "z0eIAERCohUI"
      },
      "source": [
        "# Zadanie:\n",
        "# 1. zamien poniższe zdanie, żeby wskazać swoje ulubione zwierzę z wykorzystaniem funkcji replace()\n",
        "ulubione_zwierze = \"koń to moje ulubione zwierzę. Mój koń ma na imię Czestram\"\n",
        "\n",
        "# Twój kod:\n",
        "ulubione_zwierze.replace('koń', 'słoń')"
      ],
      "execution_count": null,
      "outputs": []
    },
    {
      "cell_type": "code",
      "metadata": {
        "id": "yIGRws38ohUK"
      },
      "source": [
        "# split() - dzieli string listę\n",
        "rna_tails_group = \"Maciek, Michał, Lidia, Wiktoria\"\n",
        "splited_rna_tails_group = rna_tails_group.split(\", \") # Podzieliliśmy string i utworzyliśmy listę\n"
      ],
      "execution_count": null,
      "outputs": []
    },
    {
      "cell_type": "code",
      "metadata": {
        "id": "3feDcZCoohUK"
      },
      "source": [
        "# Jakiego spodziewamy się wyniku poniżej?\n",
        "print(rna_tails_group[1])\n",
        "print(splited_rna_tails_group[1])"
      ],
      "execution_count": null,
      "outputs": []
    },
    {
      "cell_type": "code",
      "metadata": {
        "id": "5CXZ_Ky7f0Ge"
      },
      "source": [
        "#join łączy np. listę w jeden String \n",
        "\n",
        "\", \".join(splited_rna_tails_group)"
      ],
      "execution_count": null,
      "outputs": []
    },
    {
      "cell_type": "markdown",
      "metadata": {
        "id": "7UG46PIuohUK"
      },
      "source": [
        "## Liczby"
      ]
    },
    {
      "cell_type": "code",
      "metadata": {
        "id": "bO_0jZfbohUL"
      },
      "source": [
        "my_integer = 1\n",
        "my_float1 = 2.556\n",
        "my_float2 = 2.34567e1000 # 2.34567 razy 10 do potęgi 1000\n",
        "\n",
        "print(my_integer)\n",
        "print(my_float1)\n",
        "print(my_float2)"
      ],
      "execution_count": null,
      "outputs": []
    },
    {
      "cell_type": "code",
      "metadata": {
        "id": "T5nKr7F2f_Jl"
      },
      "source": [
        "# liczby zespolone\n",
        "\n",
        "liczba_a = 2 + 2j\n",
        "liczba_b = 2 - 2j\n",
        "\n",
        "print(liczba_a*liczba_b)\n",
        "\n",
        "import cmath\n",
        "import math\n",
        "\n",
        "print(cmath.phase(liczba_b)*360/(2*math.pi))\n"
      ],
      "execution_count": null,
      "outputs": []
    },
    {
      "cell_type": "markdown",
      "metadata": {
        "id": "l06QxIk2ohUL"
      },
      "source": [
        "####  Operacje matematyczne w Pythonie\n",
        "\n",
        "Podstawowe operatory:\n",
        "\n",
        "|Operator|Operation|\n",
        "|:--:|---|\n",
        "|+|addition|\n",
        "|-|substration|\n",
        "|\\*|multiplication|\n",
        "|/|division|\n",
        "|//|floor division|\n",
        "|%|modulo|\n",
        "|\\*\\*|power|"
      ]
    },
    {
      "cell_type": "code",
      "metadata": {
        "id": "ly4I1sheohUL"
      },
      "source": [
        "# Zadanie: Jakich spodziewasz się wyników następujących działań:\n",
        "# a) 5/2\n",
        "# b) 5//2\n",
        "# c) 5%2 ?"
      ],
      "execution_count": null,
      "outputs": []
    },
    {
      "cell_type": "code",
      "metadata": {
        "id": "0IqF1i7GohUL"
      },
      "source": [
        "# Zadanie- Dla chętnych\n",
        "\n",
        "#Pomnóż resztę z dzielenia 456 przez 87 przez 21 i podnieś wynik do potęgi 3. \n",
        "#Podziel wynik przez 11. Zachowaj wynik w postaci zmiennej *result*."
      ],
      "execution_count": null,
      "outputs": []
    },
    {
      "cell_type": "code",
      "metadata": {
        "id": "02vHu2hYohUM"
      },
      "source": [
        "# Możemy nazwać więcej niż jedną zmienną w tym samym czasie:\n",
        "a, b, c = 1, 2.01, 'three'\n",
        "print(b)"
      ],
      "execution_count": null,
      "outputs": []
    },
    {
      "cell_type": "code",
      "metadata": {
        "id": "YtcJ1pgiohUM"
      },
      "source": [
        "# Integer & float\n",
        "number='6767677'"
      ],
      "execution_count": null,
      "outputs": []
    },
    {
      "cell_type": "code",
      "metadata": {
        "id": "rEeS25dxohUM"
      },
      "source": [
        "number = int(number) #odcina część ułamkową\n",
        "number"
      ],
      "execution_count": null,
      "outputs": []
    },
    {
      "cell_type": "code",
      "metadata": {
        "id": "MmzpRi6HgVU1"
      },
      "source": [
        "print(math.floor(2.8)) # zaokrągli w dół\n",
        "print(round(2.8)) #zaokrągli"
      ],
      "execution_count": null,
      "outputs": []
    },
    {
      "cell_type": "code",
      "metadata": {
        "id": "lqiEncv7ohUM"
      },
      "source": [
        "number = float(number)\n",
        "number"
      ],
      "execution_count": null,
      "outputs": []
    },
    {
      "cell_type": "code",
      "metadata": {
        "id": "zUTCIa90ohUM"
      },
      "source": [
        "# Zadanie: Jaka jest jakaś rożnica między zmiennymi a i b?\n",
        "\n",
        "pierwsza_liczba = int('1234') + 56\n",
        "druga_liczba = int('1234' + '56')"
      ],
      "execution_count": null,
      "outputs": []
    },
    {
      "cell_type": "code",
      "metadata": {
        "id": "HjPI4Jg-ohUN"
      },
      "source": [
        "pierwsza_liczba\n",
        "druga_liczba"
      ],
      "execution_count": null,
      "outputs": []
    },
    {
      "cell_type": "markdown",
      "metadata": {
        "id": "ZkFCjqw8ohUN"
      },
      "source": [
        "## Lista\n",
        "Listę można utworzyć z użyciem nawiasu kwadratowego lub fukcji list(), elementami listy mogą być stringi, liczby, inne listy słowniki itp\n"
      ]
    },
    {
      "cell_type": "code",
      "metadata": {
        "id": "nvWzesxYohUN"
      },
      "source": [
        "# Tworzymy prostą listę - stringi\n",
        "hobby = ['plywanie', 'rysowanie', 'piłka nożna']\n",
        "print(hobby)\n"
      ],
      "execution_count": null,
      "outputs": []
    },
    {
      "cell_type": "code",
      "metadata": {
        "id": "86rIgzqhohUN"
      },
      "source": [
        "lista_liczb = [10, 18, 19, 23]\n",
        "lista_liczb[2]\n",
        "#lista_liczb[1:2] "
      ],
      "execution_count": null,
      "outputs": []
    },
    {
      "cell_type": "code",
      "metadata": {
        "id": "6wEelF-2ohUN"
      },
      "source": [
        "# Lista zawierająca różne typy danych\n",
        "\n",
        "my_list = [1, 2, ['three', 4], 5.5] \n",
        "print(my_list)"
      ],
      "execution_count": null,
      "outputs": []
    },
    {
      "cell_type": "code",
      "metadata": {
        "id": "uYZTMNlvohUN"
      },
      "source": [
        "print(my_list[0])\n",
        "print(my_list[1:3]) # Note, this will get us elements at position 1 and 2\n",
        "print(my_list[-2])\n",
        "print(my_list * 2)\n",
        "\n",
        "print(\"Python \"*10)"
      ],
      "execution_count": null,
      "outputs": []
    },
    {
      "cell_type": "code",
      "metadata": {
        "id": "GIjIS4X2ohUO"
      },
      "source": [
        "# Możemy modyfikować elementy listy\n",
        "\n",
        "\n",
        "print(my_list)\n",
        "my_list[0] = 7\n",
        "print(my_list)"
      ],
      "execution_count": null,
      "outputs": []
    },
    {
      "cell_type": "code",
      "metadata": {
        "id": "HLgtLwSoohUO"
      },
      "source": [
        "# Możemy dodawać nowy element do listy\n",
        "\n",
        "\n",
        "my_new_list = my_list + ['new element'] \n",
        "print(my_new_list) # the new list has the new element\n",
        "print(my_list) # however the original list was left unchanges\n"
      ],
      "execution_count": null,
      "outputs": []
    },
    {
      "cell_type": "code",
      "metadata": {
        "id": "CHgoM-g5ohUO"
      },
      "source": [
        "# Inny metoda dodawania elementu do listy\n",
        "my_list.append('new element')\n",
        "print(my_list)"
      ],
      "execution_count": null,
      "outputs": []
    },
    {
      "cell_type": "markdown",
      "metadata": {
        "id": "IIp3oQJqohUO"
      },
      "source": [
        "**append()** dodaje jeden element do listy. Jeśli chcemy dodać jednocześnie więcej elementów, użyjmy polecenia **extend()**"
      ]
    },
    {
      "cell_type": "code",
      "metadata": {
        "id": "g_TEfyFBohUP"
      },
      "source": [
        "plesnie = ['Alternaria', 'Penicillium', 'Aspergillus', 'Chaetomium']\n",
        "\n",
        "# append() dodaje jeden element do listy - tutaj dodaje listę jako 1 element\n",
        "plesnie.append('Mucor')\n",
        "print(plesnie)\n",
        "\n",
        "# extend() dodaje więcej niż jeden element do listy \n",
        "plesnie.extend([ 'Mucor', 'Trichoderma'])\n",
        "print(plesnie)"
      ],
      "execution_count": null,
      "outputs": []
    },
    {
      "cell_type": "code",
      "metadata": {
        "id": "ZnV6-JRqohUP"
      },
      "source": [
        "# kilka cwiczen na listach\n",
        "zwierzaki  = [\"kot\",\"pies\",\"kura\",\"kotek\",\"słoń\", \"3miel\"]\n"
      ],
      "execution_count": null,
      "outputs": []
    },
    {
      "cell_type": "code",
      "metadata": {
        "id": "C2EeaPGuohUP"
      },
      "source": [
        "print(zwierzaki[2])"
      ],
      "execution_count": null,
      "outputs": []
    },
    {
      "cell_type": "code",
      "metadata": {
        "id": "Bp_S0JlpohUP"
      },
      "source": [
        "print(zwierzaki[2][:-1])"
      ],
      "execution_count": null,
      "outputs": []
    },
    {
      "cell_type": "code",
      "metadata": {
        "id": "ftg8S4HFohUP"
      },
      "source": [
        "print(zwierzaki[:2])"
      ],
      "execution_count": null,
      "outputs": []
    },
    {
      "cell_type": "code",
      "metadata": {
        "id": "ILVk6zClohUP"
      },
      "source": [
        "# dodajemy element do listy\n",
        "zwierzaki.append('tygrys')\n",
        "print(list)"
      ],
      "execution_count": null,
      "outputs": []
    },
    {
      "cell_type": "code",
      "metadata": {
        "id": "0BHKFd4uohUQ"
      },
      "source": [
        "# sortowanie listy alfabetycznie (najpierw liczby)\n",
        "sorted(zwierzaki)"
      ],
      "execution_count": null,
      "outputs": []
    },
    {
      "cell_type": "code",
      "metadata": {
        "id": "GQBa_DmKohUQ"
      },
      "source": [
        "sorted(zwierzaki)[-1]"
      ],
      "execution_count": null,
      "outputs": []
    },
    {
      "cell_type": "code",
      "metadata": {
        "id": "06eKf7yNgiRf"
      },
      "source": [
        "max(zwierzaki)"
      ],
      "execution_count": null,
      "outputs": []
    },
    {
      "cell_type": "code",
      "metadata": {
        "id": "7nlQicNrohUQ"
      },
      "source": [
        "nowe_zwierzaki = zwierzaki + ['małpa']\n",
        "print(nowe_zwierzaki)\n",
        "print(zwierzaki)"
      ],
      "execution_count": null,
      "outputs": []
    },
    {
      "cell_type": "code",
      "metadata": {
        "id": "UsDTqxRSohUQ"
      },
      "source": [
        "# Zadanie - jakiego spodziewasz się wyniku poniższych komend\n",
        "\n",
        "genus = ['Candida', 'Saccharomyces', 'Bacillus', 'Alternaria'] \n",
        "\n",
        "\n",
        "# print(genus[-2])\n",
        "# sorted(genus)[1]\n",
        "# len(genus[1:3])"
      ],
      "execution_count": null,
      "outputs": []
    },
    {
      "cell_type": "markdown",
      "metadata": {
        "id": "3qElndzSohUQ"
      },
      "source": [
        "## Dictionary (słownik)\n"
      ]
    },
    {
      "cell_type": "code",
      "metadata": {
        "id": "wWBOyNoKohUR"
      },
      "source": [
        "slownik_wyrazow={\"coccus\": 'ziarniaki', 'diplococcus': 'dwoinki', 'staphylococcus': 'gronkowce'}"
      ],
      "execution_count": null,
      "outputs": []
    },
    {
      "cell_type": "code",
      "metadata": {
        "id": "dZi6g9GwohUR"
      },
      "source": [
        "# inny sposób tworzenia slownika\n",
        "ugrupowania = [('coccus',  'ziarniaki'),('diplococcus', 'dwoinki'), ('staphylococcus', 'gronkowce')]\n",
        "ugrupowania_bakterii = dict(ugrupowania)\n",
        "print(ugrupowania_bakterii)"
      ],
      "execution_count": null,
      "outputs": []
    },
    {
      "cell_type": "code",
      "metadata": {
        "id": "bmNAH-kDohUR"
      },
      "source": [
        "ugrupowania_bakterii['coccus']"
      ],
      "execution_count": null,
      "outputs": []
    },
    {
      "cell_type": "code",
      "metadata": {
        "id": "P5q8uuIFohUR"
      },
      "source": [
        "pacjenci = {'Anna': ['k', 25, 90], 'Franek': ['m', 50, 100]}"
      ],
      "execution_count": null,
      "outputs": []
    },
    {
      "cell_type": "code",
      "metadata": {
        "id": "aYeQRp30ohUR"
      },
      "source": [
        "# Co wiemy o Franku?\n",
        "pacjenci[\"Franek\"]"
      ],
      "execution_count": null,
      "outputs": []
    },
    {
      "cell_type": "code",
      "metadata": {
        "id": "Q5eRvhwLohUS"
      },
      "source": [
        "# Czy Hektor jest pacjentem?\n",
        "\"Hektor\" in pacjenci"
      ],
      "execution_count": null,
      "outputs": []
    },
    {
      "cell_type": "code",
      "metadata": {
        "id": "d06lMi4WohUS"
      },
      "source": [
        "# Dodawanie elementów do słownika\n",
        "pacjenci[\"Ferdynand\"] = [\"m\",60,40]\n",
        "\n",
        "print(pacjenci)"
      ],
      "execution_count": null,
      "outputs": []
    },
    {
      "cell_type": "code",
      "metadata": {
        "id": "F1wXkfKqohUS"
      },
      "source": [
        "# Zmiana klucza w słowniku\n",
        "pacjenci[\"Anna\"]=[\"k\",25,90]\n",
        "print(pacjenci)\n",
        "\n",
        "print(pacjenci[\"Anna\"])"
      ],
      "execution_count": null,
      "outputs": []
    },
    {
      "cell_type": "code",
      "metadata": {
        "id": "6Iw13QulohUS"
      },
      "source": [
        "pacjenci[\"Anna\"][2]=80\n",
        "\n",
        "print(pacjenci)"
      ],
      "execution_count": null,
      "outputs": []
    },
    {
      "cell_type": "code",
      "metadata": {
        "id": "wa_6b6xVohUS"
      },
      "source": [
        "# Zadania\n",
        "# 1. Dodaj nowego pacjenta.\n",
        "# 2. Sprawdź ile ma lat nowy pacjent."
      ],
      "execution_count": null,
      "outputs": []
    },
    {
      "cell_type": "markdown",
      "metadata": {
        "id": "_TQxEyt_ohUT"
      },
      "source": [
        "## Tuple (krotki)\n",
        "Podobne do listy, możemy szukać elementu po pozycji, ale nie możemy rozszerzyć tupla"
      ]
    },
    {
      "cell_type": "code",
      "metadata": {
        "id": "s5BV8OWfohUT"
      },
      "source": [
        "my_tuple = (1, 2, 3, 4)\n",
        "print(my_tuple)"
      ],
      "execution_count": null,
      "outputs": []
    },
    {
      "cell_type": "code",
      "metadata": {
        "id": "raVKnh1aohUT"
      },
      "source": [
        "print(my_tuple[2])\n",
        "print(my_tuple[1:3])"
      ],
      "execution_count": null,
      "outputs": []
    },
    {
      "cell_type": "code",
      "metadata": {
        "id": "6b2i2HnDohUT"
      },
      "source": [
        "print(my_tuple * 2)"
      ],
      "execution_count": null,
      "outputs": []
    },
    {
      "cell_type": "markdown",
      "metadata": {
        "id": "GeXgXYKJohUU"
      },
      "source": [
        "## Sets (zbiory)\n",
        "Zbiory są specjalną kolekcją w Pythonie - są nieuporządkowane, nieindeksowane, a wszystkie ich wpisy są unikalne. Tworzymy zbiory używając nawiasów klamrowych {} lub funkcji set ()."
      ]
    },
    {
      "cell_type": "code",
      "metadata": {
        "id": "AjRqtJwfohUU"
      },
      "source": [
        "my_set = {'a', 'b', 3, 'b'}\n",
        "my_set2  = set(['a', 'b', 3, 'b'])\n",
        "print(my_set)\n",
        "print(my_set2)"
      ],
      "execution_count": null,
      "outputs": []
    },
    {
      "cell_type": "code",
      "metadata": {
        "id": "t3QiRzpNohUU"
      },
      "source": [
        "# Zbiory nie mogą być dostępne jako lista - są nieuporządkowane i nieindeksowane. Odkomentuj następującą linię i zobacz, co się stanie.\n",
        "my_set[2]"
      ],
      "execution_count": null,
      "outputs": []
    },
    {
      "cell_type": "code",
      "metadata": {
        "id": "EumGiAokohUU"
      },
      "source": [
        "#However, similiarly to lists, we can add items to the set.\n",
        "my_set.add(7) # one element at the time\n",
        "print(my_set)\n",
        "my_set.update([1, 2, 'f', 'g']) # multiple items at once\n",
        "print(my_set)"
      ],
      "execution_count": null,
      "outputs": []
    },
    {
      "cell_type": "code",
      "metadata": {
        "id": "_5Hnw6CCohUV"
      },
      "source": [
        "# Zadanie: poniższa lista zawiera duplikaty. Stwórz nową listę zawierającą tylko unikalne wartości\n",
        "dluga_lista_duplikatow = [1, 7, 1, 2, 3, 5, 16, 7, 8, 17, 13, 23, 21, 34, 55, 23, 89, 1, 2, 3, 34, 4, 5, 6, 34, 7, 8, 9, 10, 21, 11, 12, 13]\n",
        "\n",
        "print(len(dluga_lista_duplikatow)) # 34\n",
        "\n",
        "# nowa lista zawierająca unikalne wartości:\n",
        "\n",
        "\n",
        "# test\n",
        "print(len(new_list)) # 20"
      ],
      "execution_count": null,
      "outputs": []
    },
    {
      "cell_type": "markdown",
      "metadata": {
        "id": "H0pLQkVjohUV"
      },
      "source": [
        "## Operatory logiczne\n",
        "\n",
        "Logical operators in Python:\n",
        "* `True`, `False` are respectively equal to `1` and `0`;\n",
        "* all objects have boolean value, and exept for `False`, `0`, `None` or empty collections (`\"\"`, `[]`, `{}` and `()`) every other objects are `True`;\n",
        "* `and` - both values have to be true for it to be true;\n",
        "* `or` - at least one turth makes the statement true;\n",
        "* `not` - negation of the value;\n",
        "* `is` - checks if are the same object;\n",
        "* comparisons:   \n",
        "\n",
        "| symbol | meaning |  \n",
        "| --- | --- |  \n",
        "| == | is equal|  \n",
        "| != | is not equal|  \n",
        "| > | greater than|  \n",
        "| >= | greater or equal to|  \n",
        "| < | less than|  \n",
        "| <= | less or euqal to|  \n"
      ]
    },
    {
      "cell_type": "code",
      "metadata": {
        "id": "uGUcxHdKohUW"
      },
      "source": [
        "# Definitios\n",
        "a = True\n",
        "b = False\n",
        "c = d = 1\n",
        "#true_statement = d > 0"
      ],
      "execution_count": null,
      "outputs": []
    },
    {
      "cell_type": "code",
      "metadata": {
        "id": "uSreeuCEohUW"
      },
      "source": [
        "\"Lactococcus\" == 'Lactobacillus'"
      ],
      "execution_count": null,
      "outputs": []
    },
    {
      "cell_type": "code",
      "metadata": {
        "id": "LKdwwi2Bu42K"
      },
      "source": [
        "\"Lactococcus\" != 'Lactobacillus'"
      ],
      "execution_count": null,
      "outputs": []
    },
    {
      "cell_type": "code",
      "metadata": {
        "id": "citOnlv1ohUW"
      },
      "source": [
        "print(a != b)\n",
        "print((a or b) and (a and not b))"
      ],
      "execution_count": null,
      "outputs": []
    },
    {
      "cell_type": "markdown",
      "metadata": {
        "id": "EfgxOeCcohUW"
      },
      "source": [
        "**Zadanie:** Answer the following questions:\n",
        "\n",
        "* What is the result of 10 == “10”\n",
        "* What is the result of not(True or False)?\n",
        "* What is the result of not 'bag'?\n",
        "* Tricky question: What is the result of “bag” > “apple”?  Why?"
      ]
    },
    {
      "cell_type": "code",
      "metadata": {
        "id": "l6vXUox3ohUX"
      },
      "source": [
        "# Odpowiedź:\n",
        "\n"
      ],
      "execution_count": null,
      "outputs": []
    },
    {
      "cell_type": "code",
      "metadata": {
        "id": "oyViSmzIohUX"
      },
      "source": [
        "a=33"
      ],
      "execution_count": null,
      "outputs": []
    },
    {
      "cell_type": "code",
      "metadata": {
        "id": "wUOEd2aEohUX"
      },
      "source": [
        "a == 4"
      ],
      "execution_count": null,
      "outputs": []
    },
    {
      "cell_type": "markdown",
      "metadata": {
        "id": "0qWUrEEQohUY"
      },
      "source": [
        "## Wyrażenia if, elif, else (jeśli, ..to)"
      ]
    },
    {
      "cell_type": "markdown",
      "metadata": {
        "id": "KoLKaa-EohUY"
      },
      "source": [
        "**Ogólny wzór:**\n",
        "\n",
        "if wyrazenie == True:\n",
        "    zrob_cos\n",
        "elif inne_wyrazanie == True:\n",
        "    zrob_cos_innego\n",
        "else:\n",
        "    poprzednie_zawiodly_zrob_cos_innego\n",
        "\n",
        "    \n",
        "Uwagi:\n",
        "* wyrażenia są sprawdzane od góry do dołu. Jeśli program natrafi na True, to robi to co mu każemy i kończy - nie przechodzi do (kolejnego) elif czy else.\n",
        "* dwukropki na końcu linii po if, elif, else są konieczne\n",
        "* Python jest wrażliwy na wcięcia: tabulator lub 4 spacje \n",
        "* możemy mieć tylko jedno if, jedno lub więcej elif i jedno else"
      ]
    },
    {
      "cell_type": "code",
      "metadata": {
        "id": "_ALJQWUyohUY"
      },
      "source": [
        "# Jeśli liczba większa niż 10, napisz to\n",
        "moja_liczba = 15\n",
        "if moja_liczba > 9:\n",
        "    print('Liczba większa niż 10')"
      ],
      "execution_count": null,
      "outputs": []
    },
    {
      "cell_type": "code",
      "metadata": {
        "id": "yKAa7SHnohUZ"
      },
      "source": [
        "moja_liczba = 1\n",
        "if moja_liczba > 9:\n",
        "    print('Liczba większa niż 10')\n",
        "else:\n",
        "    print('Liczba mniejsza lub równa 9')"
      ],
      "execution_count": null,
      "outputs": []
    },
    {
      "cell_type": "code",
      "metadata": {
        "id": "W1-8qivfohUZ"
      },
      "source": [
        "moje_zwierze = 'żołw'\n",
        "\n",
        "if moje_zwierze == 'żółw':\n",
        "    print(\"Moje zwierzę to żółw.\")\n",
        "elif moje_zwierze == 'zając':\n",
        "    print(\"Moje zwierzę to zając.\")\n",
        "else:\n",
        "    print('Moje zwierzę to ani żółw ani zając.')"
      ],
      "execution_count": null,
      "outputs": []
    },
    {
      "cell_type": "code",
      "metadata": {
        "id": "JZQyRp_TohUZ"
      },
      "source": [
        "x = 3\n",
        "y = 7\n",
        "\n",
        "if x > y:\n",
        "    print(\"x jest większe niż y\")\n",
        "elif x <y:\n",
        "    print(\"x jest mniejsze niż y\")\n",
        "else:\n",
        "    print(\"x jest równe y\")"
      ],
      "execution_count": null,
      "outputs": []
    },
    {
      "cell_type": "markdown",
      "metadata": {
        "id": "NEHJVvfKohUZ"
      },
      "source": [
        "## Loops: `for` and `while`\n",
        "\n",
        "Those statements allow us to repeat a certain procedure over an iteration of sorts. For example, let's say that for every odd number lower than 10 we would want to learn the value of this number taken to the power of 3. We can do it like this:"
      ]
    },
    {
      "cell_type": "code",
      "metadata": {
        "id": "3Cuci3mIohUa"
      },
      "source": [
        "print(1**3)\n",
        "print(3**3)\n",
        "print(5**3)"
      ],
      "execution_count": null,
      "outputs": []
    },
    {
      "cell_type": "code",
      "metadata": {
        "id": "jMaHhqrUohUa"
      },
      "source": [
        "# To samo bardziej elegancko:\n",
        "# range(1, 10, 2) takes a range from 1 to 10 and takes every other number\n",
        "\n",
        "for i in range(1, 10, 2):\n",
        "    print(i**3)"
      ],
      "execution_count": null,
      "outputs": []
    },
    {
      "cell_type": "markdown",
      "metadata": {
        "id": "7sXsWPkDohUa"
      },
      "source": [
        "By modifying the above example we can get the sum of all odd numbers bigger than 0 and smaller than 100."
      ]
    },
    {
      "cell_type": "code",
      "metadata": {
        "id": "WOWmmSmDohUa"
      },
      "source": [
        "odd_sum = 0\n",
        "for i in range(1, 100, 2):\n",
        "    odd_sum += i**3 # += this is an abbreviation for odd_sum = odd_sum + i**3\n",
        "    \n",
        "print(odd_sum)"
      ],
      "execution_count": null,
      "outputs": []
    },
    {
      "cell_type": "markdown",
      "metadata": {
        "id": "6GMs5xHfohUb"
      },
      "source": [
        "Other statement that allows us to execute the same command multiple times is the statement `while`. You can think of this as - while something is true, do this. Coming back to our example from earlier:"
      ]
    },
    {
      "cell_type": "markdown",
      "metadata": {
        "id": "5lw48e1lohUb"
      },
      "source": [
        "## More control flow tools: continue and break\n",
        "\n",
        "The `break` statement breaks out of the looop, i.e. stop any following iterations of the loop."
      ]
    },
    {
      "cell_type": "code",
      "metadata": {
        "id": "oDXCoLxTohUb"
      },
      "source": [
        "while True:\n",
        "    x = int(input('Please, provide a number greater than 0: '))\n",
        "    if x > 0:\n",
        "        break\n",
        "    else:\n",
        "        print('We are still looking for a number greater than zero ;)')\n",
        "print('Thanks!')"
      ],
      "execution_count": null,
      "outputs": []
    },
    {
      "cell_type": "code",
      "metadata": {
        "id": "huWAx5PbohUb"
      },
      "source": [
        "#Another example of a `break` statement. Note, `break` only influences the loop it was put into.\n",
        "for n in range(2, 10):\n",
        "    for x in range(2, n):\n",
        "        if n % x == 0:\n",
        "            print(n, 'equals', x, '*', n // x)\n",
        "            break # breaks out of the second for loop\n",
        "    else:\n",
        "        # loop fell through without finding a factor\n",
        "        print(n, 'is a prime number')"
      ],
      "execution_count": null,
      "outputs": []
    },
    {
      "cell_type": "code",
      "metadata": {
        "id": "xrMsfkq9ohUb"
      },
      "source": [
        "#`continue` goes to another iteration skipping the remainder of the loop.\n",
        "for num in range(2, 10):\n",
        "    if num % 2 == 0:\n",
        "        print(\"Found an even number\", num)\n",
        "        continue # next line will not get executed if this is reached\n",
        "    print(\"Found an odd number\", num)"
      ],
      "execution_count": null,
      "outputs": []
    },
    {
      "cell_type": "markdown",
      "metadata": {
        "id": "Jc_S0AXqohUc"
      },
      "source": [
        "**Zadanie** Write a loop that will print the following pattern:  \n",
        "1    \n",
        "22  \n",
        "333  \n",
        "4444  \n",
        "55555  \n",
        "666666  \n",
        "7777777  \n",
        "88888888  \n",
        "999999999  "
      ]
    },
    {
      "cell_type": "code",
      "metadata": {
        "id": "5n2s7_QcohUc"
      },
      "source": [
        "# Twój kod:\n",
        "\n"
      ],
      "execution_count": null,
      "outputs": []
    },
    {
      "cell_type": "markdown",
      "metadata": {
        "id": "8RLV5-u4ohUc"
      },
      "source": [
        "## Funkcje\n",
        "\n",
        "W Pythonie jest wiele wbudowanych funkcji (Python built-in functions), np. print(), len(), type(). Można też napisać swoje własne funkcje - zwłaszcza, jeśli będziemy robić daną czynność więcej niż raz.\n",
        "\n",
        "Funkcje wywołujemy poprzez wpisanie nazwy funkcji i w nawiasie okrągłym jej argumentów. Liczba argumentów zależy od danej funkcji.\n",
        "\n",
        "funkcja(arg1, arg2, ...)"
      ]
    },
    {
      "cell_type": "code",
      "metadata": {
        "id": "FAzZUCrIohUc"
      },
      "source": [
        "# Wbudowane funkcje = przykłady\n",
        "print('Ferment')\n",
        "len('Ferment')\n",
        "print(len('Ferment'))"
      ],
      "execution_count": null,
      "outputs": []
    },
    {
      "cell_type": "code",
      "metadata": {
        "id": "0fScf9cBohUc"
      },
      "source": [
        "# Gdzie szukać pomocy jeśli nie wiemy jakie argumenty powinna mieć dana funkcja:\n",
        "help(print)"
      ],
      "execution_count": null,
      "outputs": []
    },
    {
      "cell_type": "markdown",
      "metadata": {
        "id": "yLlwJJpKohUc"
      },
      "source": [
        "### Tworzenie własnych funkcji\n"
      ]
    },
    {
      "cell_type": "code",
      "metadata": {
        "id": "moG2R6vpohUd"
      },
      "source": [
        "def nazwa_funkcji(argumenty): #def to słowo zarezerwowane do tworzenia funkcji; nazwa funkcji -- bez spacji\n",
        "    '''\n",
        "    Dokumentacja funkcji - co ta funkcja robi, jakie musimy wpisać argumenty, co będzie wynikiem\n",
        "    \n",
        "    Dokumentacja jest szalenie istotna - bez niej nasz kod będzie jednorazowy!\n",
        "    '''\n",
        "    print('To jest moja pierwsza funkcja, ', argumenty) #tutaj przykładowe print. Nasza funkcja może robić coś innego"
      ],
      "execution_count": null,
      "outputs": []
    },
    {
      "cell_type": "code",
      "metadata": {
        "id": "y-3Jy-GGohUd"
      },
      "source": [
        "nazwa_funkcji('PyFunkcja')"
      ],
      "execution_count": null,
      "outputs": []
    },
    {
      "cell_type": "code",
      "metadata": {
        "id": "jU4AienfohUd"
      },
      "source": [
        "# Tworzymy prostą funkcję \n",
        "\n",
        "def dodawanie_dwoch_liczb(liczba1, liczba2):\n",
        "    '''\n",
        "    Funkcja przyjmuje dwa argumenty liczbowe, zwraca ich sumę.\n",
        "    Input: int, float\n",
        "    Output: int, float\n",
        "    '''\n",
        "    suma = liczba1 + liczba2\n",
        "    print(suma)"
      ],
      "execution_count": null,
      "outputs": []
    },
    {
      "cell_type": "code",
      "metadata": {
        "id": "dqQhmo12ohUd"
      },
      "source": [
        "dodawanie_dwoch_liczb(liczba1 = 3.4,liczba2 =3.0)"
      ],
      "execution_count": null,
      "outputs": []
    },
    {
      "cell_type": "code",
      "metadata": {
        "id": "K70mWxhYohUd"
      },
      "source": [
        "dodawanie_dwoch_liczb(3.4, 3.0)"
      ],
      "execution_count": null,
      "outputs": []
    },
    {
      "cell_type": "code",
      "metadata": {
        "scrolled": true,
        "id": "V2MKhpMHohUd"
      },
      "source": [
        "# Nie pamiętamy to robi funkcja -- zapytajmy z użyciem help()\n",
        "help(dodawanie_dwoch_liczb)"
      ],
      "execution_count": null,
      "outputs": []
    },
    {
      "cell_type": "code",
      "metadata": {
        "id": "rrXlWbJCohUe"
      },
      "source": [
        "def wieksza_mniejsza_niz10(liczba):\n",
        "    '''\n",
        "    Funkcja sprawdza czy liczba jest większa czy mniejsza niż 10.\n",
        "    '''\n",
        "    liczba10 = 10\n",
        "    if liczba > 10:\n",
        "        print('Liczba ', liczba, 'jest większa niż 10')\n",
        "    elif liczba == 10:\n",
        "        print('Liczba ', liczba, 'jest równa 10')\n",
        "    else: #przy else nie podajemy warunków\n",
        "        print('Liczba ', liczba, 'jest mniejsza niż 10')"
      ],
      "execution_count": null,
      "outputs": []
    },
    {
      "cell_type": "code",
      "metadata": {
        "id": "OhhAqRvAohUe"
      },
      "source": [
        "#wypróbuj poniższą funkcję\n",
        "\n",
        "wieksza_mniejsza_niz10(3)"
      ],
      "execution_count": null,
      "outputs": []
    },
    {
      "cell_type": "code",
      "metadata": {
        "id": "Roxsk2t1ohUe"
      },
      "source": [
        ""
      ],
      "execution_count": null,
      "outputs": []
    },
    {
      "cell_type": "markdown",
      "metadata": {
        "id": "kdcSDjE6ohUe"
      },
      "source": [
        "## Analiza i wizualizacja danych"
      ]
    },
    {
      "cell_type": "code",
      "metadata": {
        "id": "doN1lpmhohUe"
      },
      "source": [
        "# Zaimportuj biblioteki -- są instalowane razem z Anacondą, musimy je zaprosić do pracy \n",
        "\n",
        "import numpy as np\n",
        "import pandas as pd\n",
        "import matplotlib.pyplot as plt\n",
        "import seaborn as sns\n",
        "\n",
        "%matplotlib inline \n",
        "#to jedna z \"Magicznych funkcji\" - umożliwia wyświetlanie wykresów w notebooku"
      ],
      "execution_count": null,
      "outputs": []
    },
    {
      "cell_type": "markdown",
      "metadata": {
        "id": "yDQNVv_LohUe"
      },
      "source": [
        "### Pandas"
      ]
    },
    {
      "cell_type": "code",
      "metadata": {
        "id": "rzdsY_X6U8S3"
      },
      "source": [
        "!pwd"
      ],
      "execution_count": null,
      "outputs": []
    },
    {
      "cell_type": "code",
      "metadata": {
        "id": "5l4bGAYaohUf"
      },
      "source": [
        "# wczytujemy plik z wykorzystaniem polecenia read_csv z modułu Pandas\n",
        "\n",
        "# wczytujemy plik z dysku, musimy znać adres pliku lub mieć ten plik w tym samym miejscu co \n",
        "#kwasy = pd.read_csv('kwasy_example.csv', sep = '\\t')\n",
        "\n",
        "# Wczytujemy plik bezpośrednio z internetu\n",
        "kwasy = pd.read_csv('https://raw.githubusercontent.com/lidkalee/Podstawy_Pythona/main/kwasy_example.csv', sep = '\\t')"
      ],
      "execution_count": null,
      "outputs": []
    },
    {
      "cell_type": "code",
      "metadata": {
        "id": "OrlJPk36ohUf"
      },
      "source": [
        "# obejrzyj naszą tabelę\n",
        "print(kwasy)\n"
      ],
      "execution_count": null,
      "outputs": []
    },
    {
      "cell_type": "code",
      "metadata": {
        "id": "fd5X3bwqtUNJ"
      },
      "source": [
        "# head() pokazuje pierwsze 5 rzędów, możemy wpisać inną liczbę rzędów\n",
        "kwasy.head()"
      ],
      "execution_count": null,
      "outputs": []
    },
    {
      "cell_type": "code",
      "metadata": {
        "id": "Vt1EXJVcohUg"
      },
      "source": [
        "# sprawdzamy ile kolumn i wierszy ma nasza tabela\n",
        "kwasy.shape"
      ],
      "execution_count": null,
      "outputs": []
    },
    {
      "cell_type": "code",
      "metadata": {
        "id": "jeZXaLn1iLAP"
      },
      "source": [
        "# wymieramy z tabeli tylko rzędy gdzie Cat jest większe niż 110 i mniejsze niż 122 \n",
        "kwasy[(kwasy[\"Cat\"]> 110) & (kwasy[\"Cat\"] < 122)] \n",
        "\n",
        "#albo medium MRS albo wysokie stężenie katecholu (cat)\n",
        "kwasy[(kwasy[\"Medium\"] ==  \"MRS\") | (kwasy[\"Cat\"] > 200)] "
      ],
      "execution_count": null,
      "outputs": []
    },
    {
      "cell_type": "code",
      "metadata": {
        "id": "RHy00o4pohUg"
      },
      "source": [
        "print('Tabela kwasy ma', kwasy.shape[1], 'kolumn')\n",
        "print('Tabela kwasy ma', kwasy.shape[0], 'rzedow')"
      ],
      "execution_count": null,
      "outputs": []
    },
    {
      "cell_type": "code",
      "metadata": {
        "id": "m_95nfx2ohUg"
      },
      "source": [
        "# Statystyka w najprostszej wersji\n",
        "\n",
        "kwasy.describe()"
      ],
      "execution_count": null,
      "outputs": []
    },
    {
      "cell_type": "code",
      "metadata": {
        "id": "Z77Iv6BRohUg"
      },
      "source": [
        "# Sprawdźmy jakie mamy kolumny\n",
        "kwasy.columns"
      ],
      "execution_count": null,
      "outputs": []
    },
    {
      "cell_type": "code",
      "metadata": {
        "scrolled": true,
        "id": "FHO2gcR0ohUh"
      },
      "source": [
        "# Filtracja - weź z tabeli tylko wyniki dla szczepu A:\n",
        "kwasy_szczepA = kwasy[kwasy['Strain']== 'StrainA']\n",
        "kwasy_szczepA.head()"
      ],
      "execution_count": null,
      "outputs": []
    },
    {
      "cell_type": "code",
      "metadata": {
        "id": "mKR3kjKiohUh"
      },
      "source": [
        "# Zadanie: Wyodrębnij z tabeli tylko wyniki dla kwasy PLA. Sprawdź ile kolumn ma teraz ta tabela\n",
        "\n"
      ],
      "execution_count": null,
      "outputs": []
    },
    {
      "cell_type": "markdown",
      "metadata": {
        "id": "WouTPrtHohUh"
      },
      "source": [
        "### Wizualizacja wyników z matplotlib i seaborn"
      ]
    },
    {
      "cell_type": "code",
      "metadata": {
        "scrolled": false,
        "id": "1_tHTTbzohUh"
      },
      "source": [
        "# Histogram wytwarzania kwasu fenylomlekowego\n",
        "plt.figure(figsize=(5,3)) # ustawiamy rozmiary wykresu\n",
        "plt.xticks(rotation=90) # rotujemy oś x o 90 stopni\n",
        "kwasy['Medium'].hist(bins = 20, alpha=0.8)#, histtype='stepfilled', range=[-1000,4000])\n",
        "\n",
        "plt.show() "
      ],
      "execution_count": null,
      "outputs": []
    },
    {
      "cell_type": "code",
      "metadata": {
        "id": "iDnXx3fTohUh"
      },
      "source": [
        "# Wykres słupkowy biosyntezy kw. benzoesowego przez szczepy A i B w różnych podłożach wzrostowych \n",
        "plt.figure(figsize=(10,8)) # ustawiamy rozmiary wykresu\n",
        "plt.xticks(rotation=90) # rotujemy oś x o 90 stopni\n",
        "\n",
        "sns.barplot(data = kwasy, hue = 'Medium', y = 'BA', x = 'Strain')\n",
        "\n",
        "plt.xlabel('Szczepy', size=14)\n",
        "plt.ylabel('Stężenie kwasu benzoesowego [mM]', size=14)\n",
        "plt.xticks(fontsize=14)\n",
        "plt.yticks(fontsize=14)\n",
        "plt.ylim(1,900)\n",
        "plt.tight_layout()\n",
        "\n",
        "#plt.savefig('kwBA_stezenie_barplot.png',dpi=400) #zapisujemy na dysku\n",
        "plt.savefig('kwBA_stezenie_barplot.pdf',dpi=400)"
      ],
      "execution_count": null,
      "outputs": []
    },
    {
      "cell_type": "code",
      "metadata": {
        "id": "GpqLo2uuohUi"
      },
      "source": [
        "# Wykres wiolinowy\n",
        "sns.violinplot(data = kwasy, hue = 'Medium', y = 'HCaA', x = 'Strain');"
      ],
      "execution_count": null,
      "outputs": []
    },
    {
      "cell_type": "code",
      "metadata": {
        "id": "OZPHpwGFohUi"
      },
      "source": [
        ""
      ],
      "execution_count": null,
      "outputs": []
    },
    {
      "cell_type": "code",
      "metadata": {
        "id": "lm-zOJjDohUi"
      },
      "source": [
        "oznaczane_kwasy = [ 'PLA', 'HPLA', 'BA', '3HBA', 'HCaA', '24dHBA',\n",
        "       'Cat', '4HBA', 'VA', 'CaA', 'p0CoumA']\n",
        "for kwas in oznaczane_kwasy:\n",
        "    sns.boxplot(data = kwasy, hue = 'Medium', y = kwas, x = 'Strain')\n",
        "    plt.show()"
      ],
      "execution_count": null,
      "outputs": []
    },
    {
      "cell_type": "markdown",
      "metadata": {
        "id": "nEPIOw0xohUi"
      },
      "source": [
        "### Wykres korelacji stężenia kwasu VA dla szczepów"
      ]
    },
    {
      "cell_type": "code",
      "metadata": {
        "id": "u7QlgWGdohUi"
      },
      "source": [
        "plt.figure(figsize=(5,3))\n",
        "sns.scatterplot(x = kwasy['24dHBA'], y = kwasy['BA'])\n",
        "plt.xlim([0,30])\n",
        "plt.ylim([0,800])\n",
        "\n",
        "#plt.savefig('foo.png',dpi=400)"
      ],
      "execution_count": null,
      "outputs": []
    },
    {
      "cell_type": "code",
      "metadata": {
        "scrolled": true,
        "id": "qvOtZCnVohUj"
      },
      "source": [
        "plt.figure(figsize=(5,3))\n",
        "sns.scatterplot(x = kwasy['24dHBA'], y = kwasy['BA'], hue = kwasy['Medium'], style=kwasy['Strain'])\n",
        "#plt.xlim([0,30])\n",
        "#plt.ylim([0,400])\n",
        "plt.legend(bbox_to_anchor=(1.05, 1), loc='upper left') # umieszczamy legendę po lewej stronie\n",
        "\n",
        "#plt.savefig('foo.png',dpi=400)"
      ],
      "execution_count": null,
      "outputs": []
    },
    {
      "cell_type": "code",
      "metadata": {
        "id": "r-2zD7FnohUj"
      },
      "source": [
        "sns.scatterplot(x =kwasy['24dHBA'], y = kwasy['BA'], hue=kwasy['Medium']);"
      ],
      "execution_count": null,
      "outputs": []
    },
    {
      "cell_type": "code",
      "metadata": {
        "scrolled": true,
        "id": "ykYEf5z-ohUj"
      },
      "source": [
        "sns.jointplot(x =kwasy['24dHBA'], y = kwasy['BA'],kind=\"reg\", truncate=False,\n",
        "                  xlim=(0, 35), ylim=(0, 900),\n",
        "                  color=\"b\", height=7);"
      ],
      "execution_count": null,
      "outputs": []
    },
    {
      "cell_type": "code",
      "metadata": {
        "id": "o-cBtqHWf3k_"
      },
      "source": [
        "# Zadanie: zrob wykres typu scatterplot stężenia BA (oś x) i PLA (oś y). Zastostuj hue do wizualizacji danych z podziałem na szczepy. Podpisz osie i zapisz wykres jako pdf."
      ],
      "execution_count": null,
      "outputs": []
    },
    {
      "cell_type": "code",
      "metadata": {
        "id": "uxaAC_nDohUl"
      },
      "source": [
        "# Tworzenie wykresów kołowych\n",
        "data = kwasy['Medium']\n",
        "f, ax =plt.subplots(figsize=(14,4))\n",
        "\n",
        "f = data.value_counts().plot(kind='pie')"
      ],
      "execution_count": null,
      "outputs": []
    },
    {
      "cell_type": "code",
      "metadata": {
        "id": "_kp64skMaaYL"
      },
      "source": [
        "# inny sposób tworzenia wykresów kołowych\n",
        "\n",
        "# Wprowadzamy jakieś zmienne liczbowe\n",
        "Miłośnik_Pythona = 300\n",
        "Miłośnik_Anacondy = 250\n",
        "Miłośnik_wszystkich_zwierząt = 1000\n",
        "\n",
        "labels = 'Miłośnik Pythona', 'Miłośnik Anacondy', 'Miłośnik_wszystkich_zwierząt'\n",
        "\n",
        "sizes = [Miłośnik_Pythona, Miłośnik_Anacondy, Miłośnik_wszystkich_zwierząt]\n",
        "\n",
        "colors = ['lightskyblue', 'coral', 'orange'] # możemy narzucić kolory\n",
        "explode = (0.1, 0.1, 0.1)  # explode 1st slice\n",
        "\n",
        "# Plot\n",
        "plt.pie(sizes,  labels=labels, colors=colors, autopct='%1.1f%%', shadow=True, startangle=140, explode=explode)\n",
        "\n",
        "plt.axis('equal')\n",
        "plt.show()"
      ],
      "execution_count": null,
      "outputs": []
    },
    {
      "cell_type": "markdown",
      "metadata": {
        "id": "k-GgTITrcYoG"
      },
      "source": [
        "### Korelacje"
      ]
    },
    {
      "cell_type": "code",
      "metadata": {
        "scrolled": true,
        "id": "_FrtZAqUohUk"
      },
      "source": [
        "#usuwamy kolumny tekstowe z naszej tabeli - do liczenia korelacji chcemy mieć tylko dane liczbowe i nagłowek (header)\n",
        "kwasy_mniejkolumn = kwasy.drop(columns=['Strain', 'Medium'])\n",
        "kwasy_mniejkolumn.head()"
      ],
      "execution_count": null,
      "outputs": []
    },
    {
      "cell_type": "code",
      "metadata": {
        "id": "owq3iKukohUk"
      },
      "source": [
        "# Seaborn pairplot\n",
        "sns.pairplot(kwasy_mniejkolumn);"
      ],
      "execution_count": null,
      "outputs": []
    },
    {
      "cell_type": "code",
      "metadata": {
        "id": "xfGWPs7PohUk"
      },
      "source": [
        "kwasy_korelacjaPearsona = kwasy_mniejkolumn.corr()"
      ],
      "execution_count": null,
      "outputs": []
    },
    {
      "cell_type": "code",
      "metadata": {
        "id": "GuqBJWqSohUk"
      },
      "source": [
        "sns.heatmap(kwasy_korelacjaPearsona, cmap='seismic') #wizualizacja z pakietem seaborn"
      ],
      "execution_count": null,
      "outputs": []
    },
    {
      "cell_type": "code",
      "metadata": {
        "id": "-VnaUaUFohUl"
      },
      "source": [
        "sns.clustermap(kwasy_korelacjaPearsona, cmap = 'seismic');"
      ],
      "execution_count": null,
      "outputs": []
    },
    {
      "cell_type": "markdown",
      "metadata": {
        "id": "E5sPMCdVohUl"
      },
      "source": [
        "## Źródła wiedzy polecane przeze mnie i moich znajomych\n",
        "\n",
        "### Dwie rzeczy warte polecenia: \n",
        "* [Biopython](https://biopython.org/)\n",
        "* [Rosalind.info](http://rosalind.info/)\n",
        "\n",
        "### Lokalne społeczności i kursy\n",
        "* [StacjaIT](https://stacja.it/)\n",
        "* [PyLadies](https://pyladies.com/)\n",
        "* [RLadies](https://rladies.org/)\n",
        "* warsztaty, [webinary](https://www.youtube.com/channel/UC5OFqeDkNKzMykBQqgd3Keg) i inne z [NGSchool](https://ngschool.eu/) ❤\n",
        "* grupy na Facebooku i Discord\n",
        "* konferencja [PyCon PL](https://pl.pycon.org/2020/) (również dla osób początkujących)\n",
        "\n",
        "\n",
        "### Dokumentacja\n",
        "* https://docs.python.org/3/\n",
        "\n",
        "\n",
        "### Książki\n",
        "* [Practical Computing for Biologists](https://practicalcomputing.org/)\n",
        "* [Python for Data Analysis](https://www.oreilly.com/library/view/python-for-data/9781491957653/)\n",
        "* [Python in a Nutshell](http://shop.oreilly.com/product/0636920012610.do)\n",
        "* [Think Python: How to Think Like a Computer Scientist](http://greenteapress.com/thinkpython/html/index.html) - whole book available online\n",
        "* [A Byte of Python](https://python.swaroopch.com/) - whole book available online\n",
        "\n",
        "### Kursy interaktywne\n",
        "* [Learn Python](https://www.learnpython.org/)\n",
        "* [A Python crash course](https://www.grahamwheeler.com/posts/python-crash-course.html) - This one is aimed at people already programming in Java\n",
        "* [Python for beginners](http://opentechschool.github.io/python-beginners/en/index.html)\n",
        "* [Tech Dev Guide by Google](https://techdevguide.withgoogle.com/) - Google resources for learning and advancing your programming skills\n",
        "* [Courses in Python on edX](https://www.edx.org/learn/python)\n",
        "* [Codeacademy - Python3](https://www.codecademy.com/learn/learn-python-3) - unfortunately behind a paywall\n",
        "* [10 Minutes to Pandas](https://pandas.pydata.org/pandas-docs/stable/getting_started/10min.html)\n",
        "* [Exploratory Data Anylyses with Pandas and Numpy](https://www.grahamwheeler.com/posts/exploratory-data-analysis-with-numpy-and-pandas.html)\n",
        "\n",
        "### Online IDEs\n",
        "* [Repl](https://repl.it/languages/python3)\n",
        "\n",
        "### Inne\n",
        "* [List of resources on Hackr.io](https://hackr.io/tutorials/learn-python)\n",
        "* [Python excercises for beginners](https://programmingwithmosh.com/python/python-exercises-and-questions-for-beginners/)"
      ]
    },
    {
      "cell_type": "markdown",
      "metadata": {
        "id": "kXm-HqLUohUl"
      },
      "source": [
        "## Czego dobrze się nauczyć, jeśli chcecie mocniej rozwijać się w zakresie analizy danych biologicznych czy bioinformatyki:\n",
        "* Python -- umocnienie wiedzy z Pandas\n",
        "* R -- przynajmniej podstawy, przydatny zwłaszcza do statystyki, ale też np do analizy wyników sekwencjonowania RNAseq\n",
        "* Podstawy korzystania z Unix/ konsoli -- w bioinformatyce pracuje się w dużej mierze z konsoli, jednak można część komend 'wywołać' w Jupyter\n",
        "* Wyrażenia regularne (regular expression)\n",
        "* git\n",
        "* GitHub\n",
        "\n",
        "## Opcjonalnie (może być trochę póżniej):\n",
        "* Markdown\n",
        "* SQL"
      ]
    },
    {
      "cell_type": "markdown",
      "metadata": {
        "id": "nk8kS2zoohUm"
      },
      "source": [
        "# You completed the course, congratulations!"
      ]
    }
  ]
}