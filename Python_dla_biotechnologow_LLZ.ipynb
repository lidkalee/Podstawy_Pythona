{
 "cells": [
  {
   "cell_type": "markdown",
   "metadata": {},
   "source": [
    "# Wstęp do języka programowania Python dla Biotechnologów\n",
    "\n",
    "Szkolenie dla **SKNB Ferment**, 11 grudnia 2020 od godz. 18tej.\n",
    "\n",
    "## Zakres szkolenia:\n",
    "* Ogólne wprowadzenie do języka Python.\n",
    "* Typy zmiennych.\n",
    "* Listy, słowniki, sety, tuple.\n",
    "* Wyrażenia if, elif, else.\n",
    "* Pętle for.\n",
    "* Wprowadzenie do tworzenia funkcji.\n",
    "* Analiza i wizualizacja danych.\n",
    "\n",
    "\n",
    "## Najważeniejsze biblioteki dla naukowca:\n",
    "\n",
    "* NumPy - pakiet do obliczeń\n",
    "* Pandas - pakiet do analizy danych (najczęściej dla danych w forrmie tabel)\n",
    "* SciPy - Scientific Python - do celów naukowych, analizy statystycznej i rozwiązywania trudniejszych problemów matematycznych i inżynieryjnych\n",
    "* Matplotlib - tworzenie wykresów 2D\n",
    "* Seaborn - tworzenie ślicznych wykresów\n",
    "\n",
    "## Prowadząca - Lidia Lipińska-Zubrycka\n",
    "* absolwentka Politechniki Łódzkiej, Instytutu Technologii Fermentacji i Mikrobiologii (doktorat w 2018),\n",
    "* obecnie postdoc w Instytucie Genetyki i Biotechnologii Uniwersytetu Warszawskiego,\n",
    "* wiceprezes [Stowarzyszenia NGSchool](https://ngschool.eu/)\n"
   ]
  },
  {
   "cell_type": "markdown",
   "metadata": {},
   "source": [
    "## Zanim zaczniemy - mała \"ściąga\" jak poruszać się w Jupyter Notebook\n",
    "* Shift+Enter - uruchom komendę w danej komórce (run)\n",
    "* kliknij na komórkę - jeśli jest podświetlona na zielono - możesz pisać. Jeśli na niebiesko, możesz dodać nową komórkę nad (kliknij a) lub pod daną komórką (kliknij b)\n",
    "* Jeśli chcemy zatrzymać działanie skryptu - ctrl+C"
   ]
  },
  {
   "cell_type": "markdown",
   "metadata": {},
   "source": [
    "## Zmienne i ich typy\n",
    "**Każda zmienna ma:**\n",
    "* nazwę,\n",
    "*  wartość,\n",
    "* typ. \n",
    "\n",
    "Zmienne mogą występować lokalnie lub globalnie.\n",
    "\n",
    "**Główne typy zmiennych**:\n",
    "* tekstowe: string (str)\n",
    "* liczbowe - liczby całkowite: integer (int)\n",
    "* liczbowe - liczby zmiennoprzecinkowe: float (float)\n",
    "* logiczne - tylko True of False: Boolean (bool)"
   ]
  },
  {
   "cell_type": "code",
   "execution_count": null,
   "metadata": {},
   "outputs": [],
   "source": [
    "# String (str) - tekst\n",
    "moje_imie = \"Lidia\"\n",
    "\n",
    "# Integer (int) - tylko liczby całkowite\n",
    "dzien_miesiaca = 11\n",
    "\n",
    "# Float (float) - liczby zmiennoprzecinkowe\n",
    "temperatura = 36.6\n",
    "\n",
    "# Boolean Type (bool) - True/ False\n",
    "entuzjasta_Pythona = True\n",
    "\n"
   ]
  },
  {
   "cell_type": "code",
   "execution_count": null,
   "metadata": {},
   "outputs": [],
   "source": [
    "# O co chodzi z typem logicznym?\n",
    "entuzjasta_Pythona"
   ]
  },
  {
   "cell_type": "code",
   "execution_count": null,
   "metadata": {},
   "outputs": [],
   "source": [
    "# Sztandarowe pierwsze powitanie\n",
    "print('Hello world!')"
   ]
  },
  {
   "cell_type": "code",
   "execution_count": null,
   "metadata": {},
   "outputs": [],
   "source": [
    "# Zadanie: Przywitaj się ze światem.\n",
    "\n"
   ]
  },
  {
   "cell_type": "code",
   "execution_count": null,
   "metadata": {
    "scrolled": true
   },
   "outputs": [],
   "source": [
    "gad = \"Python\"\n",
    "print(\"Introduction to\", gad)"
   ]
  },
  {
   "cell_type": "code",
   "execution_count": null,
   "metadata": {},
   "outputs": [],
   "source": [
    "# Zadanie\n",
    "imie = \n",
    "print(\"Mam na imię\", imie)"
   ]
  },
  {
   "cell_type": "markdown",
   "metadata": {},
   "source": [
    "### Strings"
   ]
  },
  {
   "cell_type": "code",
   "execution_count": null,
   "metadata": {
    "scrolled": true
   },
   "outputs": [],
   "source": [
    "# Tworzymy nową zmienną w typie string\n",
    "my_string = 'AAATCGTAC'\n",
    "print(my_string)"
   ]
  },
  {
   "cell_type": "code",
   "execution_count": null,
   "metadata": {},
   "outputs": [],
   "source": [
    "# sprawadzam dlugosc sekwencji \n",
    "len(my_string)"
   ]
  },
  {
   "cell_type": "markdown",
   "metadata": {},
   "source": [
    "### Uwaga, w Pythonie liczymy od 0!\n",
    "\n",
    "|B|i|o|t|e|c|h|n|o|l|o|g|i|a|\n",
    "|--|--|--|--|--|--|--|--|--|--|--|--|--|--|\n",
    "|0 |1| 2| 3| 4| 5| 6| 7| 8| 9| 10| 11| 12| 13|\n",
    "|-14 |-13| -12| -11| -10| -9| -8| -7| -6| -5| -4| -3| -2| -1|"
   ]
  },
  {
   "cell_type": "code",
   "execution_count": null,
   "metadata": {},
   "outputs": [],
   "source": [
    "# zmienna ma długość 9, jednak przy zapytaniu o element 9 otrzymamy błąd\n",
    "my_string[9]"
   ]
  },
  {
   "cell_type": "code",
   "execution_count": null,
   "metadata": {},
   "outputs": [],
   "source": [
    "# jaki jest pierwszy, piąty i ostatni nuklotyd\n",
    "my_string[0]\n",
    "my_string[4]\n",
    "my_string[-1]"
   ]
  },
  {
   "cell_type": "code",
   "execution_count": null,
   "metadata": {},
   "outputs": [],
   "source": [
    "# jakie są nukleotydy od 3 do 7 pozycji\n",
    "my_string[2:7] # nie zawiera ostatniej pozycji\n",
    "\n",
    "#ostatne 5 liter\n",
    "my_string[-5:]"
   ]
  },
  {
   "cell_type": "code",
   "execution_count": null,
   "metadata": {},
   "outputs": [],
   "source": [
    "# ZADANIE: utworz zmienną ulubiony_mikroorganizm i wyprintuj cały pierwszy człon nazwy\n",
    "\n"
   ]
  },
  {
   "cell_type": "code",
   "execution_count": null,
   "metadata": {},
   "outputs": [],
   "source": [
    "\n",
    "my_second_string = 'Ferment'\n",
    "print(my_second_string)\n",
    "print(my_second_string, \",\", \"Czy to Ty?\")\n",
    "print(my_second_string*2)"
   ]
  },
  {
   "cell_type": "code",
   "execution_count": null,
   "metadata": {},
   "outputs": [],
   "source": [
    "# Zadania:\n",
    "my_sequence = 'CGTAACAAGGTTTCCGTAGGTGAACCTGCGGAAGGATCATTGATGAGACCGTAAAAAA'\n",
    "\n",
    "\n",
    "# 1. sprawdż jak długa jest sekwencja\n",
    "# *2. zrób zmienną zawierającą tylko ogon poli A i sprawdź jaki jest długi.\n"
   ]
  },
  {
   "cell_type": "markdown",
   "metadata": {},
   "source": [
    "### Kilka przydatnych działań, które możemy wykonać na zmiennych typu string\n",
    "\n",
    "* `find(pattern)` - Finds the start position of the pattern; returns -1 if no match;\n",
    "* `replace(pattern, replacement)` - Replaces all occurences of a pattern with replacement;\n",
    "* `upper()`, `lower()` - converts to upper or lowercase;\n"
   ]
  },
  {
   "cell_type": "code",
   "execution_count": null,
   "metadata": {},
   "outputs": [],
   "source": [
    "# find(pattern)\n",
    "my_sequence = '’CGTAACAAGGTTTCCGTAGGTGAACCTGCGGAAGGATCATTGATGAGACCGTAAAAAA'\n",
    "pierwsze_wyst=my_sequence.find(\"AAAAA\")\n",
    "\n",
    "# teraz jeszcze raz printujemy ogon poli A\n",
    "my_sequence[53:]"
   ]
  },
  {
   "cell_type": "code",
   "execution_count": null,
   "metadata": {},
   "outputs": [],
   "source": []
  },
  {
   "cell_type": "code",
   "execution_count": null,
   "metadata": {},
   "outputs": [],
   "source": [
    "# replace(pattern, replacement)\n",
    "hello_kasia = 'Hello Kasia!'\n",
    "hello_adam = hello_kasia.replace('Kasia', 'Adam')\n",
    "print(hello_kasia)\n",
    "print(hello_adam)"
   ]
  },
  {
   "cell_type": "code",
   "execution_count": null,
   "metadata": {},
   "outputs": [],
   "source": [
    "# Zadanie:\n",
    "# 1. zamien poniższe zdanie, żeby wskazać swoje ulubione zwierzę z wykorzystaniem funkcji replace()\n",
    "ulubione_zwierze = \"Moje ulubione zwierzę to Python.\"\n",
    "\n",
    "# Twój kod:\n"
   ]
  },
  {
   "cell_type": "code",
   "execution_count": null,
   "metadata": {},
   "outputs": [],
   "source": [
    "# split() - dzieli string listę\n",
    "rna_tails_group = \"Maciek, Michał, Lidia, Wiktoria\"\n",
    "splited_rna_tails_group = rna_tails_group.split(\", \") # Podzieliliśmy string i utworzyliśmy listę\n"
   ]
  },
  {
   "cell_type": "code",
   "execution_count": null,
   "metadata": {},
   "outputs": [],
   "source": [
    "# Jakiego spodziewamy się wyniku poniżej?\n",
    "print(rna_tails_group[1])\n",
    "print(splited_rna_tails_group[1])"
   ]
  },
  {
   "cell_type": "markdown",
   "metadata": {},
   "source": [
    "## Liczby"
   ]
  },
  {
   "cell_type": "code",
   "execution_count": null,
   "metadata": {},
   "outputs": [],
   "source": [
    "my_integer = 1\n",
    "my_float1 = 2.556\n",
    "my_float2 = 2.34567e1000\n",
    "\n",
    "print(my_integer)\n",
    "print(my_float1)\n",
    "print(my_float2)"
   ]
  },
  {
   "cell_type": "markdown",
   "metadata": {},
   "source": [
    "####  Python jako kalkulator\n",
    "\n",
    "Podstawowe operatory:\n",
    "\n",
    "|Operator|Operation|\n",
    "|:--:|---|\n",
    "|+|addition|\n",
    "|-|substration|\n",
    "|\\*|multiplication|\n",
    "|/|division|\n",
    "|//|floor division|\n",
    "|%|modulo|\n",
    "|\\*\\*|power|"
   ]
  },
  {
   "cell_type": "code",
   "execution_count": null,
   "metadata": {},
   "outputs": [],
   "source": [
    "# Zadanie: Jakich spodziewasz się wyników następujących działań:\n",
    "# a) 5/2\n",
    "# b) 5//2\n",
    "# c) 5%2 ?"
   ]
  },
  {
   "cell_type": "code",
   "execution_count": null,
   "metadata": {},
   "outputs": [],
   "source": [
    "# Zadanie- Dla chętnych\n",
    "\n",
    "#Pomnóż resztę z dzielenia 456 przez 87 przez 21 i podnieś wynik do potęgi 3. \n",
    "#Podziel wynik przez 11. Zachowaj wynik w postaci zmiennej *result*."
   ]
  },
  {
   "cell_type": "code",
   "execution_count": null,
   "metadata": {},
   "outputs": [],
   "source": [
    "# Możemy nazwać więcej niż jedną zmienną w tym samym czasie:\n",
    "a, b, c = 1, 2.01, 'three'\n",
    "print(b)"
   ]
  },
  {
   "cell_type": "code",
   "execution_count": null,
   "metadata": {},
   "outputs": [],
   "source": [
    "# Integer & float\n",
    "number='6767677'"
   ]
  },
  {
   "cell_type": "code",
   "execution_count": null,
   "metadata": {},
   "outputs": [],
   "source": [
    "number = int(number)\n",
    "number"
   ]
  },
  {
   "cell_type": "code",
   "execution_count": null,
   "metadata": {},
   "outputs": [],
   "source": [
    "number = float(number)\n",
    "number"
   ]
  },
  {
   "cell_type": "code",
   "execution_count": null,
   "metadata": {},
   "outputs": [],
   "source": [
    "# Zadanie: Jaka jest jakaś rożnica między zmiennymi a i b?\n",
    "\n",
    "a = int('1234') + 56\n",
    "b = int('1234' + '56')"
   ]
  },
  {
   "cell_type": "code",
   "execution_count": null,
   "metadata": {},
   "outputs": [],
   "source": [
    "a, b"
   ]
  },
  {
   "cell_type": "markdown",
   "metadata": {},
   "source": [
    "## Lista\n",
    "Listę można utworzyć z użyciem nawiasu kwadratowego lub fukcji list(), elementami listy mogą być stringi, liczby, inne listy słowniki itp\n"
   ]
  },
  {
   "cell_type": "code",
   "execution_count": null,
   "metadata": {},
   "outputs": [],
   "source": [
    "# Tworzymy prostą listę - stringi\n",
    "hobby = ['plywanie', 'rysowanie', 'piłka nożna']\n",
    "print(hobby)\n"
   ]
  },
  {
   "cell_type": "code",
   "execution_count": null,
   "metadata": {},
   "outputs": [],
   "source": [
    "lista_liczb = [10, 18, 19, 23]\n",
    "lista_liczb[2]\n",
    "#lista_liczb[1:2] "
   ]
  },
  {
   "cell_type": "code",
   "execution_count": null,
   "metadata": {},
   "outputs": [],
   "source": [
    "# Lista zawierająca różne typy danych\n",
    "\n",
    "my_list = [1, 2, ['three', 4], 5.5] \n",
    "print(my_list)"
   ]
  },
  {
   "cell_type": "code",
   "execution_count": null,
   "metadata": {},
   "outputs": [],
   "source": [
    "print(my_list[0])\n",
    "print(my_list[1:3]) # Note, this will get us elements at position 1 and 2\n",
    "print(my_list[-2])\n",
    "print(my_list * 2)\n",
    "\n",
    "print(\"Python \"*10)"
   ]
  },
  {
   "cell_type": "code",
   "execution_count": null,
   "metadata": {},
   "outputs": [],
   "source": [
    "# Możemy modyfikować elementy listy\n",
    "\n",
    "\n",
    "print(my_list)\n",
    "my_list[0] = 7\n",
    "print(my_list)"
   ]
  },
  {
   "cell_type": "code",
   "execution_count": null,
   "metadata": {},
   "outputs": [],
   "source": [
    "# Możemy dodawać nowy element do listy\n",
    "\n",
    "\n",
    "my_new_list = my_list + ['new element'] \n",
    "print(my_new_list) # the new list has the new element\n",
    "print(my_list) # however the original list was left unchanges\n"
   ]
  },
  {
   "cell_type": "code",
   "execution_count": null,
   "metadata": {},
   "outputs": [],
   "source": [
    "# Inny metoda dodawania elementu do listy\n",
    "my_list.append('new element')\n",
    "print(my_list)"
   ]
  },
  {
   "cell_type": "markdown",
   "metadata": {},
   "source": [
    "Note that `append()` always add its argument as a new element. Therefore, if we want a list as an element of our list we can do that with append. On the other hand, if we want to add multiple elements to a list - we should rather use `extend()`."
   ]
  },
  {
   "cell_type": "code",
   "execution_count": null,
   "metadata": {},
   "outputs": [],
   "source": [
    "my_list.append([1,2,3,4])\n",
    "print(my_list)\n",
    "my_list.extend([1,2,3,4])\n",
    "print(my_list)"
   ]
  },
  {
   "cell_type": "code",
   "execution_count": null,
   "metadata": {},
   "outputs": [],
   "source": [
    "# kilka cwiczen na listach\n",
    "zwierzaki  = [\"kot\",\"pies\",\"kura\",\"kotek\",\"słoń\", \"3miel\"]\n"
   ]
  },
  {
   "cell_type": "code",
   "execution_count": null,
   "metadata": {},
   "outputs": [],
   "source": [
    "print(zwierzaki[2])"
   ]
  },
  {
   "cell_type": "code",
   "execution_count": null,
   "metadata": {},
   "outputs": [],
   "source": [
    "print(zwierzaki[2][:-1])"
   ]
  },
  {
   "cell_type": "code",
   "execution_count": null,
   "metadata": {},
   "outputs": [],
   "source": [
    "print(zwierzaki[:2])"
   ]
  },
  {
   "cell_type": "code",
   "execution_count": null,
   "metadata": {},
   "outputs": [],
   "source": [
    "zwierzaki.append('tygrys')\n",
    "print(list)"
   ]
  },
  {
   "cell_type": "code",
   "execution_count": null,
   "metadata": {},
   "outputs": [],
   "source": [
    "sorted(zwierzaki)"
   ]
  },
  {
   "cell_type": "code",
   "execution_count": null,
   "metadata": {},
   "outputs": [],
   "source": [
    "sorted(zwierzaki)[-1]"
   ]
  },
  {
   "cell_type": "code",
   "execution_count": null,
   "metadata": {},
   "outputs": [],
   "source": [
    "nowe_zwierzaki = zwierzaki + ['małpa']\n",
    "print(nowe_zwierzaki)\n",
    "print(zwierzaki)"
   ]
  },
  {
   "cell_type": "code",
   "execution_count": null,
   "metadata": {},
   "outputs": [],
   "source": [
    "# Zadanie - jakiego spodziewasz się wyniku poniższych komend\n",
    "\n",
    "genus = ['Candida', 'Saccharomyces', 'Bacillus', 'Alternaria'] \n",
    "\n",
    "\n",
    "# print(genus[-2])\n",
    "# sorted(genus)[1]\n",
    "# len(genus[1:3])"
   ]
  },
  {
   "cell_type": "markdown",
   "metadata": {},
   "source": [
    "## Dictionary -- Słownik\n"
   ]
  },
  {
   "cell_type": "code",
   "execution_count": null,
   "metadata": {},
   "outputs": [],
   "source": [
    "slownik_wyrazow={1:\"jeden\",2:\"dwa\",3:\"trzy\", \"one\":1}"
   ]
  },
  {
   "cell_type": "code",
   "execution_count": null,
   "metadata": {},
   "outputs": [],
   "source": [
    "# inny sposób tworzenia slownika\n",
    "d = [('one', 1), ('two', 2), ('three', 3)]\n",
    "d_dict = dict(d)\n",
    "print(d_dict)"
   ]
  },
  {
   "cell_type": "code",
   "execution_count": null,
   "metadata": {},
   "outputs": [],
   "source": [
    "slownik_wyrazow[3]"
   ]
  },
  {
   "cell_type": "code",
   "execution_count": null,
   "metadata": {},
   "outputs": [],
   "source": [
    "pacjenci = {'Anna': ['k', 25, 90], 'Franek': ['m', 50, 100]}"
   ]
  },
  {
   "cell_type": "code",
   "execution_count": null,
   "metadata": {},
   "outputs": [],
   "source": [
    "# Co wiemy o Franku?\n",
    "pacjenci[\"Franek\"]"
   ]
  },
  {
   "cell_type": "code",
   "execution_count": null,
   "metadata": {},
   "outputs": [],
   "source": [
    "# Czy Hektor jest pacjentem?\n",
    "\"Hektor\" in pacjenci"
   ]
  },
  {
   "cell_type": "code",
   "execution_count": null,
   "metadata": {},
   "outputs": [],
   "source": [
    "# Dodawanie elementów do słownika\n",
    "pacjenci[\"Ferdynand\"] = [\"m\",60,40]\n",
    "\n",
    "print(pacjenci)"
   ]
  },
  {
   "cell_type": "code",
   "execution_count": null,
   "metadata": {},
   "outputs": [],
   "source": [
    "# Zmiana klucza w słowniku\n",
    "pacjenci[\"Anna\"]=[\"k\",25,90]\n",
    "print(pacjenci)\n",
    "\n",
    "print(pacjenci[\"Anna\"])"
   ]
  },
  {
   "cell_type": "code",
   "execution_count": null,
   "metadata": {},
   "outputs": [],
   "source": [
    "pacjenci[\"Anna\"][2]=80\n",
    "\n",
    "print(pacjenci)"
   ]
  },
  {
   "cell_type": "code",
   "execution_count": null,
   "metadata": {},
   "outputs": [],
   "source": [
    "# Zadania\n",
    "# 1. Dodaj nowego pacjenta.\n",
    "# 2. Sprawdź ile ma lat nowy pacjent."
   ]
  },
  {
   "cell_type": "markdown",
   "metadata": {},
   "source": [
    "## Tuple -- po polsku krotki\n",
    "Tuples are similiar to lists - they are a collection of items separated by commas and enclosed in parenthesis - (). Their elements can be accessed by their position, however, unlike lists their shape is constant. They cannot be updated."
   ]
  },
  {
   "cell_type": "code",
   "execution_count": null,
   "metadata": {},
   "outputs": [],
   "source": [
    "my_tuple = (1, 2, 3, 4)\n",
    "print(my_tuple)"
   ]
  },
  {
   "cell_type": "code",
   "execution_count": null,
   "metadata": {},
   "outputs": [],
   "source": [
    "print(my_tuple[2])\n",
    "print(my_tuple[1:3])"
   ]
  },
  {
   "cell_type": "code",
   "execution_count": null,
   "metadata": {},
   "outputs": [],
   "source": [
    "print(my_tuple * 2)"
   ]
  },
  {
   "cell_type": "markdown",
   "metadata": {},
   "source": [
    "## Sets\n",
    "Sets are special collection in Python - they are unordered, unindexed and all their entires are unique. We create sets by using curly brackets {} or by using the set() function."
   ]
  },
  {
   "cell_type": "code",
   "execution_count": null,
   "metadata": {},
   "outputs": [],
   "source": [
    "my_set = {'a', 'b', 3, 'b'}\n",
    "my_set2  = set(['a', 'b', 3, 'b'])\n",
    "print(my_set)\n",
    "print(my_set2)"
   ]
  },
  {
   "cell_type": "code",
   "execution_count": null,
   "metadata": {},
   "outputs": [],
   "source": [
    "#The sets cannot be accessed as list - they are unordered and unindexed. Uncomment the following two lines and see what happens.\n",
    "my_set[2]"
   ]
  },
  {
   "cell_type": "code",
   "execution_count": null,
   "metadata": {},
   "outputs": [],
   "source": [
    "#However, similiarly to lists, we can add items to the set.\n",
    "my_set.add(7) # one element at the time\n",
    "print(my_set)\n",
    "my_set.update([1, 2, 'f', 'g']) # multiple items at once\n",
    "print(my_set)"
   ]
  },
  {
   "cell_type": "code",
   "execution_count": null,
   "metadata": {},
   "outputs": [],
   "source": [
    "# Zadanie\n",
    "#You have a long list of duplicate entries. How will you remove duplciates and create a new list with only unique values?\n",
    "long_list_of_duplicates = [1, 7, 1, 2, 3, 5, 16, 7, 8, 17, 13, 23, 21, 34, 55, 23, 89, 1, 2, 3, 34, 4, 5, 6, 34, 7, 8, 9, 10, 21, 11, 12, 13]\n",
    "\n",
    "print(len(long_list_of_duplicates)) # 34\n",
    "\n",
    "# Create your new list\n",
    "\n",
    "# test\n",
    "print(len(new_list)) # 20"
   ]
  },
  {
   "cell_type": "markdown",
   "metadata": {},
   "source": [
    "## Operatory logiczne\n",
    "\n",
    "Logical operators in Python:\n",
    "* `True`, `False` are respectively equal to `1` and `0`;\n",
    "* all objects have boolean value, and exept for `False`, `0`, `None` or empty collections (`\"\"`, `[]`, `{}` and `()`) every other objects are `True`;\n",
    "* `and` - both values have to be true for it to be true;\n",
    "* `or` - at least one turth makes the statement true;\n",
    "* `not` - negation of the value;\n",
    "* `is` - checks if are the same object;\n",
    "* comparisons:   \n",
    "\n",
    "| symbol | meaning |  \n",
    "| --- | --- |  \n",
    "| == | is equal|  \n",
    "| != | is not equal|  \n",
    "| > | greater than|  \n",
    "| >= | greater or equal to|  \n",
    "| < | less than|  \n",
    "| <= | less or euqal to|  \n"
   ]
  },
  {
   "cell_type": "code",
   "execution_count": null,
   "metadata": {},
   "outputs": [],
   "source": [
    "# Definitios\n",
    "a = True\n",
    "b = False\n",
    "c = d = 1\n",
    "#true_statement = d > 0"
   ]
  },
  {
   "cell_type": "code",
   "execution_count": null,
   "metadata": {},
   "outputs": [],
   "source": [
    "a == b"
   ]
  },
  {
   "cell_type": "code",
   "execution_count": null,
   "metadata": {},
   "outputs": [],
   "source": [
    "print(a != b)\n",
    "print((a or b) and (a and not b))"
   ]
  },
  {
   "cell_type": "markdown",
   "metadata": {},
   "source": [
    "**Zadanie:** Answer the following questions:\n",
    "\n",
    "* What is the result of 10 == “10”\n",
    "* What is the result of not(True or False)?\n",
    "* What is the result of not 'bag'?\n",
    "* Tricky question: What is the result of “bag” > “apple”?  Why?"
   ]
  },
  {
   "cell_type": "code",
   "execution_count": null,
   "metadata": {},
   "outputs": [],
   "source": [
    "# Odpowiedź:\n",
    "\n"
   ]
  },
  {
   "cell_type": "code",
   "execution_count": null,
   "metadata": {},
   "outputs": [],
   "source": [
    "a=33"
   ]
  },
  {
   "cell_type": "code",
   "execution_count": null,
   "metadata": {},
   "outputs": [],
   "source": [
    "a == 4"
   ]
  },
  {
   "cell_type": "markdown",
   "metadata": {},
   "source": [
    "## Wyrażenia if, elif, else (jeśli, ..to)"
   ]
  },
  {
   "cell_type": "markdown",
   "metadata": {},
   "source": [
    "**Ogólny wzór:**\n",
    "\n",
    "if wyrazenie == True:\n",
    "    zrob_cos\n",
    "elif inne_wyrazanie == True:\n",
    "    zrob_cos_innego\n",
    "else:\n",
    "    poprzednie_zawiodly_zrob_cos_innego\n",
    "\n",
    "    \n",
    "Uwagi:\n",
    "* wyrażenia są sprawdzane od góry do dołu. Jeśli program natrafi na True, to robi to co mu każemy i kończy - nie przechodzi do (kolejnego) elif czy else.\n",
    "* dwukropki na końcu linii po if, elif, else są konieczne\n",
    "* Python jest wrażliwy na wcięcia: tabulator lub 4 spacje \n",
    "* możemy mieć tylko jedno if, jedno lub więcej elif i jedno else"
   ]
  },
  {
   "cell_type": "code",
   "execution_count": null,
   "metadata": {},
   "outputs": [],
   "source": [
    "# Jeśli liczba większa niż 10, napisz to\n",
    "moja_liczba = 15\n",
    "if moja_liczba > 9:\n",
    "    print('Liczba większa niż 10')"
   ]
  },
  {
   "cell_type": "code",
   "execution_count": null,
   "metadata": {},
   "outputs": [],
   "source": [
    "moja_liczba = 1\n",
    "if moja_liczba > 9:\n",
    "    print('Liczba większa niż 10')\n",
    "else:\n",
    "    print('Liczba mniejsza lub równa 9')"
   ]
  },
  {
   "cell_type": "code",
   "execution_count": null,
   "metadata": {},
   "outputs": [],
   "source": [
    "moje_zwierze = 'żołw'\n",
    "\n",
    "if moje_zwierze == 'żółw':\n",
    "    print(\"Moje zwierzę to żółw.\")\n",
    "elif moje_zwierze == 'zając':\n",
    "    print(\"Moje zwierzę to zając.\")\n",
    "else:\n",
    "    print('Moje zwierzę to ani żółw ani zając.')"
   ]
  },
  {
   "cell_type": "code",
   "execution_count": null,
   "metadata": {},
   "outputs": [],
   "source": [
    "x = 3\n",
    "y = 7\n",
    "\n",
    "if x > y:\n",
    "    print(\"x jest większe niż y\")\n",
    "elif x <y:\n",
    "    print(\"x jest mniejsze niż y\")\n",
    "else:\n",
    "    print(\"x jest równe y\")"
   ]
  },
  {
   "cell_type": "markdown",
   "metadata": {},
   "source": [
    "## Loops: `for` and `while`\n",
    "\n",
    "Those statements allow us to repeat a certain procedure over an iteration of sorts. For example, let's say that for every odd number lower than 10 we would want to learn the value of this number taken to the power of 3. We can do it like this:"
   ]
  },
  {
   "cell_type": "code",
   "execution_count": null,
   "metadata": {},
   "outputs": [],
   "source": [
    "print(1**3)\n",
    "print(3**3)\n",
    "print(5**3)"
   ]
  },
  {
   "cell_type": "code",
   "execution_count": null,
   "metadata": {},
   "outputs": [],
   "source": [
    "# To samo bardziej elegancko:\n",
    "# range(1, 10, 2) takes a range from 1 to 10 and takes every other number\n",
    "\n",
    "for i in range(1, 10, 2):\n",
    "    print(i**3)"
   ]
  },
  {
   "cell_type": "markdown",
   "metadata": {},
   "source": [
    "By modifying the above example we can get the sum of all odd numbers bigger than 0 and smaller than 100."
   ]
  },
  {
   "cell_type": "code",
   "execution_count": null,
   "metadata": {},
   "outputs": [],
   "source": [
    "odd_sum = 0\n",
    "for i in range(1, 100, 2):\n",
    "    odd_sum += i**3 # += this is an abbreviation for odd_sum = odd_sum + i**3\n",
    "    \n",
    "print(odd_sum)"
   ]
  },
  {
   "cell_type": "markdown",
   "metadata": {},
   "source": [
    "Other statement that allows us to execute the same command multiple times is the statement `while`. You can think of this as - while something is true, do this. Coming back to our example from earlier:"
   ]
  },
  {
   "cell_type": "markdown",
   "metadata": {},
   "source": [
    "## More control flow tools: continue and break\n",
    "\n",
    "The `break` statement breaks out of the looop, i.e. stop any following iterations of the loop."
   ]
  },
  {
   "cell_type": "code",
   "execution_count": null,
   "metadata": {},
   "outputs": [],
   "source": [
    "while True:\n",
    "    x = int(input('Please, provide a number greater than 0: '))\n",
    "    if x > 0:\n",
    "        break\n",
    "    else:\n",
    "        print('We are still looking for a number greater than zero ;)')\n",
    "print('Thanks!')"
   ]
  },
  {
   "cell_type": "code",
   "execution_count": null,
   "metadata": {},
   "outputs": [],
   "source": [
    "#Another example of a `break` statement. Note, `break` only influences the loop it was put into.\n",
    "for n in range(2, 10):\n",
    "    for x in range(2, n):\n",
    "        if n % x == 0:\n",
    "            print(n, 'equals', x, '*', n // x)\n",
    "            break # breaks out of the second for loop\n",
    "    else:\n",
    "        # loop fell through without finding a factor\n",
    "        print(n, 'is a prime number')"
   ]
  },
  {
   "cell_type": "code",
   "execution_count": null,
   "metadata": {},
   "outputs": [],
   "source": [
    "#`continue` goes to another iteration skipping the remainder of the loop.\n",
    "for num in range(2, 10):\n",
    "    if num % 2 == 0:\n",
    "        print(\"Found an even number\", num)\n",
    "        continue # next line will not get executed if this is reached\n",
    "    print(\"Found an odd number\", num)"
   ]
  },
  {
   "cell_type": "markdown",
   "metadata": {},
   "source": [
    "**Zadanie** Write a loop that will print the following pattern:  \n",
    "1    \n",
    "22  \n",
    "333  \n",
    "4444  \n",
    "55555  \n",
    "666666  \n",
    "7777777  \n",
    "88888888  \n",
    "999999999  "
   ]
  },
  {
   "cell_type": "code",
   "execution_count": null,
   "metadata": {},
   "outputs": [],
   "source": [
    "# write your code\n",
    "\n"
   ]
  },
  {
   "cell_type": "markdown",
   "metadata": {},
   "source": [
    "## Funkcje\n",
    "\n",
    "W Pythonie jest wiele wbudowanych funkcji (Python built-in functions), np. print(), len(), type(). Można też napisać swoje własne funkcje - zwłaszcza, jeśli będziemy robić daną czynność więcej niż raz.\n",
    "\n",
    "Funkcje wywołujemy poprzez wpisanie nazwy funkcji i w nawiasie okrągłym jej argumentów. Liczba argumentów zależy od danej funkcji.\n",
    "\n",
    "funkcja(arg1, arg2, ...)"
   ]
  },
  {
   "cell_type": "code",
   "execution_count": null,
   "metadata": {},
   "outputs": [],
   "source": [
    "# Wbudowane funkcje\n",
    "print('Ferment')\n",
    "len('Ferment')\n",
    "print(len('Ferment'))"
   ]
  },
  {
   "cell_type": "code",
   "execution_count": null,
   "metadata": {},
   "outputs": [],
   "source": [
    "# Gdzie szukać pomocy jeśli nie wiemy jakie argumenty powinna mieć dana funkcja:\n",
    "help(print)"
   ]
  },
  {
   "cell_type": "markdown",
   "metadata": {},
   "source": [
    "### Tworzenie własnych funkcji\n"
   ]
  },
  {
   "cell_type": "code",
   "execution_count": null,
   "metadata": {},
   "outputs": [],
   "source": [
    "def nazwa_funkcji(argumenty): #def to słowo zarezerwowane do tworzenia funkcji; nazwa funkcji -- bez spacji\n",
    "    '''\n",
    "    Dokumentacja funkcji - co ta funkcja robi, jakie musimy wpisać argumenty, co będzie wynikiem\n",
    "    \n",
    "    Dokumentacja jest szalenie istotna - bez niej nasz kod będzie jednorazowy!\n",
    "    '''\n",
    "    print('To jest moja pierwsza funkcja, ', argumenty) #tutaj przykładowe print. Nasza funkcja może robić coś innego"
   ]
  },
  {
   "cell_type": "code",
   "execution_count": null,
   "metadata": {},
   "outputs": [],
   "source": [
    "nazwa_funkcji('PyFunkcja')"
   ]
  },
  {
   "cell_type": "code",
   "execution_count": null,
   "metadata": {},
   "outputs": [],
   "source": [
    "# Tworzymy prostą funkcję \n",
    "\n",
    "def dodawanie_dwoch_liczb(liczba1, liczba2):\n",
    "    '''\n",
    "    Funkcja przyjmuje dwa argumenty liczbowe, zwraca ich sumę.\n",
    "    Input: int, float\n",
    "    Output: int, float\n",
    "    '''\n",
    "    suma = liczba1 + liczba2\n",
    "    print(suma)"
   ]
  },
  {
   "cell_type": "code",
   "execution_count": null,
   "metadata": {},
   "outputs": [],
   "source": [
    "dodawanie_dwoch_liczb(liczba1 = 3.4,liczba2 =3.0)"
   ]
  },
  {
   "cell_type": "code",
   "execution_count": null,
   "metadata": {},
   "outputs": [],
   "source": [
    "dodawanie_dwoch_liczb(3.4, 3.0)"
   ]
  },
  {
   "cell_type": "code",
   "execution_count": null,
   "metadata": {
    "scrolled": true
   },
   "outputs": [],
   "source": [
    "# Nie pamiętamy to robi funkcja -- zapytajmy z użyciem help()\n",
    "help(dodawanie_dwoch_liczb)"
   ]
  },
  {
   "cell_type": "code",
   "execution_count": null,
   "metadata": {},
   "outputs": [],
   "source": [
    "def wieksza_mniejsza_niz10(liczba):\n",
    "    '''\n",
    "    Funkcja sprawdza czy liczba jest większa czy mniejsza niż 10.\n",
    "    '''\n",
    "    liczba10 = 10\n",
    "    if liczba > 10:\n",
    "        print('Liczba ', liczba, 'jest większa niż 10')\n",
    "    elif liczba == 10:\n",
    "        print('Liczba ', liczba, 'jest równa 10')\n",
    "    else: #przy else nie podajemy warunków\n",
    "        print('Liczba ', liczba, 'jest mniejsza niż 10')"
   ]
  },
  {
   "cell_type": "code",
   "execution_count": null,
   "metadata": {},
   "outputs": [],
   "source": [
    "#wypróbuj poniższą funkcję\n",
    "\n",
    "wieksza_mniejsza_niz10(3)"
   ]
  },
  {
   "cell_type": "code",
   "execution_count": null,
   "metadata": {},
   "outputs": [],
   "source": []
  },
  {
   "cell_type": "markdown",
   "metadata": {},
   "source": [
    "## Analiza i wizualizacja danych"
   ]
  },
  {
   "cell_type": "code",
   "execution_count": null,
   "metadata": {},
   "outputs": [],
   "source": [
    "# Zaimportuj biblioteki -- są instalowane razem z Anacondą, musimy je zaprosić do pracy \n",
    "\n",
    "import numpy as np\n",
    "import pandas as pd\n",
    "import matplotlib.pyplot as plt\n",
    "import seaborn as sns\n",
    "\n",
    "%matplotlib inline \n",
    "#to jedna z \"Magicznych funkcji\" - umożliwia wyświetlanie wykresów w notebooku"
   ]
  },
  {
   "cell_type": "markdown",
   "metadata": {},
   "source": [
    "### Pandas"
   ]
  },
  {
   "cell_type": "code",
   "execution_count": null,
   "metadata": {},
   "outputs": [],
   "source": [
    "# wczytujemy plik Data Frame z Pandas\n",
    "\n",
    "kwasy = pd.read_csv('kwasy_example.csv', sep = '\\t')"
   ]
  },
  {
   "cell_type": "code",
   "execution_count": null,
   "metadata": {},
   "outputs": [],
   "source": []
  },
  {
   "cell_type": "code",
   "execution_count": null,
   "metadata": {},
   "outputs": [],
   "source": [
    "# obejrzyj naszą tabelę\n",
    "kwasy.head() # pokazuje pierwsze 5 rzędów"
   ]
  },
  {
   "cell_type": "code",
   "execution_count": null,
   "metadata": {},
   "outputs": [],
   "source": []
  },
  {
   "cell_type": "code",
   "execution_count": null,
   "metadata": {},
   "outputs": [],
   "source": []
  },
  {
   "cell_type": "code",
   "execution_count": null,
   "metadata": {},
   "outputs": [],
   "source": [
    "# sprawdzamy ile kolumn i wierszy ma nasza tabela\n",
    "kwasy.shape"
   ]
  },
  {
   "cell_type": "code",
   "execution_count": null,
   "metadata": {},
   "outputs": [],
   "source": [
    "print('Tabela kwasy ma', kwasy.shape[1], 'kolumn')\n",
    "print('Tabela kwasy ma', kwasy.shape[0], 'rzedow')"
   ]
  },
  {
   "cell_type": "code",
   "execution_count": null,
   "metadata": {},
   "outputs": [],
   "source": [
    "# Statystyka w najprostszej wersji\n",
    "\n",
    "kwasy.describe()"
   ]
  },
  {
   "cell_type": "code",
   "execution_count": null,
   "metadata": {},
   "outputs": [],
   "source": [
    "# Sprawdźmy jakie mamy kolumny\n",
    "kwasy.columns"
   ]
  },
  {
   "cell_type": "code",
   "execution_count": null,
   "metadata": {
    "scrolled": true
   },
   "outputs": [],
   "source": [
    "# Filtracja - weź z tabeli tylko wyniki dla szczepu A:\n",
    "kwasy_szczepA = kwasy[kwasy['Strain']== 'StrainA']\n",
    "kwasy_szczepA.head()"
   ]
  },
  {
   "cell_type": "code",
   "execution_count": null,
   "metadata": {},
   "outputs": [],
   "source": [
    "# Zadanie: Wyodrębnij z tabeli tylko wyniki dla kwasy PLA. Sprawdź ile kolumn ma teraz ta tabela"
   ]
  },
  {
   "cell_type": "markdown",
   "metadata": {},
   "source": [
    "### Wizualizacja wyników"
   ]
  },
  {
   "cell_type": "code",
   "execution_count": null,
   "metadata": {
    "scrolled": false
   },
   "outputs": [],
   "source": [
    "# Histogram wytwarzania kwasu fenylomlekowego\n",
    "kwasy['PLA'].hist()"
   ]
  },
  {
   "cell_type": "code",
   "execution_count": null,
   "metadata": {},
   "outputs": [],
   "source": [
    "# Wykres słupkowy biosyntezy kw. benzoesowego przez szczepy A i B w różnych podłożach wzrostowych \n",
    "sns.barplot(data = kwasy, hue = 'Medium', y = 'BA', x = 'Strain');"
   ]
  },
  {
   "cell_type": "code",
   "execution_count": null,
   "metadata": {},
   "outputs": [],
   "source": [
    "# Wykres wiolinowy\n",
    "sns.violinplot(data = kwasy, hue = 'Medium', y = 'HCaA', x = 'Strain');"
   ]
  },
  {
   "cell_type": "code",
   "execution_count": null,
   "metadata": {},
   "outputs": [],
   "source": []
  },
  {
   "cell_type": "code",
   "execution_count": null,
   "metadata": {},
   "outputs": [],
   "source": [
    "oznaczane_kwasy = [ 'PLA', 'HPLA', 'BA', '3HBA', 'HCaA', '24dHBA',\n",
    "       'Cat', '4HBA', 'VA', 'CaA', 'p0CoumA']\n",
    "for kwas in oznaczane_kwasy:\n",
    "    sns.boxplot(data = kwasy, hue = 'Medium', y = kwas, x = 'Strain')\n",
    "    plt.show()"
   ]
  },
  {
   "cell_type": "markdown",
   "metadata": {},
   "source": [
    "### Wykres korelacji stężenia kwasu VA dla szczepów"
   ]
  },
  {
   "cell_type": "code",
   "execution_count": null,
   "metadata": {},
   "outputs": [],
   "source": [
    "sns.scatterplot(x = kwasy['24dHBA'], y = kwasy['BA']);"
   ]
  },
  {
   "cell_type": "code",
   "execution_count": null,
   "metadata": {
    "scrolled": true
   },
   "outputs": [],
   "source": [
    "\n",
    "sns.scatterplot(x = kwasy['24dHBA'], y = kwasy['BA'], hue=kwasy['Strain']);"
   ]
  },
  {
   "cell_type": "code",
   "execution_count": null,
   "metadata": {},
   "outputs": [],
   "source": [
    "sns.scatterplot(x =kwasy['24dHBA'], y = kwasy['BA'], hue=kwasy['Medium']);"
   ]
  },
  {
   "cell_type": "code",
   "execution_count": null,
   "metadata": {
    "scrolled": true
   },
   "outputs": [],
   "source": [
    "sns.jointplot(x =kwasy['24dHBA'], y = kwasy['BA'],kind=\"reg\", truncate=False,\n",
    "                  xlim=(0, 35), ylim=(0, 900),\n",
    "                  color=\"b\", height=7);"
   ]
  },
  {
   "cell_type": "code",
   "execution_count": null,
   "metadata": {},
   "outputs": [],
   "source": [
    "#usuwamy zbędne kolumny z naszej Data Frame - do liczenia korelacji chcemy mieć tylko dane liczbowe i nagłowek (header)\n",
    "kwasy_mniejkolumn = kwasy.drop(columns=['Strain', 'Medium'])\n",
    "kwasy_mniejkolumn.head()"
   ]
  },
  {
   "cell_type": "code",
   "execution_count": null,
   "metadata": {},
   "outputs": [],
   "source": [
    "# Seaborn pairplot\n",
    "sns.pairplot(kwasy_mniejkolumn);"
   ]
  },
  {
   "cell_type": "code",
   "execution_count": null,
   "metadata": {},
   "outputs": [],
   "source": [
    "kwasy_korelacjaPearsona = kwasy_mniejkolumn.corr()"
   ]
  },
  {
   "cell_type": "code",
   "execution_count": null,
   "metadata": {},
   "outputs": [],
   "source": [
    "sns.heatmap(kwasy_korelacjaPearsona, cmap='seismic') #wizualizacja z pakietem seaborn"
   ]
  },
  {
   "cell_type": "code",
   "execution_count": null,
   "metadata": {},
   "outputs": [],
   "source": [
    "sns.clustermap(kwasy_korelacjaPearsona, cmap = 'seismic')"
   ]
  },
  {
   "cell_type": "code",
   "execution_count": null,
   "metadata": {},
   "outputs": [],
   "source": []
  },
  {
   "cell_type": "markdown",
   "metadata": {},
   "source": [
    "## Źródła wiedzy polecane przeze mnie i moich znajomych\n",
    "\n",
    "### Dwie rzeczy warte polecenia: \n",
    "* Biopython\n",
    "* Rosalind.info\n",
    "\n",
    "### Lokalne społeczności i kursy\n",
    "* StacjaIT\n",
    "* PyLadies\n",
    "* RLadies\n",
    "* grupy na Facebooku, Discordzie\n",
    "* konferencje PyCon PL (również dla osób początkujących)\n",
    "\n",
    "\n",
    "### Dokumentacja\n",
    "* https://docs.python.org/3/\n",
    "\n",
    "\n",
    "### Książki\n",
    "* [Practical Computing for Biologists](https://practicalcomputing.org/)\n",
    "* [Python for Data Analysis](https://www.oreilly.com/library/view/python-for-data/9781491957653/)\n",
    "* [Python in a Nutshell](http://shop.oreilly.com/product/0636920012610.do)\n",
    "* [Think Python: How to Think Like a Computer Scientist](http://greenteapress.com/thinkpython/html/index.html) - whole book available online\n",
    "* [A Byte of Python](https://python.swaroopch.com/) - whole book available online\n",
    "\n",
    "### Kursy interaktywne\n",
    "* [Learn Python](https://www.learnpython.org/)\n",
    "* [A Python crash course](https://www.grahamwheeler.com/posts/python-crash-course.html) - This one is aimed at people already programming in Java\n",
    "* [Python for beginners](http://opentechschool.github.io/python-beginners/en/index.html)\n",
    "* [Tech Dev Guide by Google](https://techdevguide.withgoogle.com/) - Google resources for learning and advancing your programming skills\n",
    "* [Courses in Python on edX](https://www.edx.org/learn/python)\n",
    "* [Codeacademy - Python3](https://www.codecademy.com/learn/learn-python-3) - unfortunately behind a paywall\n",
    "* [10 Minutes to Pandas](https://pandas.pydata.org/pandas-docs/stable/getting_started/10min.html)\n",
    "* [Exploratory Data Anylyses with Pandas and Numpy](https://www.grahamwheeler.com/posts/exploratory-data-analysis-with-numpy-and-pandas.html)\n",
    "\n",
    "### Online IDEs\n",
    "* [Repl](https://repl.it/languages/python3)\n",
    "\n",
    "### Inne\n",
    "* [List of resources on Hackr.io](https://hackr.io/tutorials/learn-python)\n",
    "* [Python excercises for beginners](https://programmingwithmosh.com/python/python-exercises-and-questions-for-beginners/)\n",
    "* "
   ]
  },
  {
   "cell_type": "markdown",
   "metadata": {},
   "source": [
    "## Czego dobrze się nauczyć, jeśli chcecie mocniej rozwijać się w zakresie analizy danych biologicznych czy bioinformatyki:\n",
    "* Python -- umocnienie wiedzy z Pandas\n",
    "* R -- przynajmniej podstawy, przydatny zwłaszcza do statystyki, ale też np do analizy wyników sekwencjonowania RNAseq\n",
    "* Podstawy korzystania z Unix/ konsoli -- w bioinformatyce pracuje się w dużej mierze z konsoli, jednak można część komend 'wywołać' w Jupyter\n",
    "* Wyrażenia regularne (regular expression)\n",
    "\n",
    "## Opcjonalnie (może być trochę póżniej):\n",
    "* Markdown\n",
    "* SQL"
   ]
  },
  {
   "cell_type": "code",
   "execution_count": null,
   "metadata": {},
   "outputs": [],
   "source": [
    "# przykład potraktowania Jupytera jako konsoli -- wykrzyknik na początku to umożliwia\n",
    "# pwd - print working directory (miejsce, gdzie jest nas skrypt)\n",
    "\n",
    "!pwd"
   ]
  },
  {
   "cell_type": "markdown",
   "metadata": {},
   "source": [
    "# You completed the course, congratulations!"
   ]
  },
  {
   "cell_type": "code",
   "execution_count": null,
   "metadata": {},
   "outputs": [],
   "source": []
  }
 ],
 "metadata": {
  "kernelspec": {
   "display_name": "Python 3",
   "language": "python",
   "name": "python3"
  },
  "language_info": {
   "codemirror_mode": {
    "name": "ipython",
    "version": 3
   },
   "file_extension": ".py",
   "mimetype": "text/x-python",
   "name": "python",
   "nbconvert_exporter": "python",
   "pygments_lexer": "ipython3",
   "version": "3.7.3"
  }
 },
 "nbformat": 4,
 "nbformat_minor": 2
}
